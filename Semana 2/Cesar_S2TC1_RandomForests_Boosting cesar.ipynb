{
 "cells": [
  {
   "cell_type": "markdown",
   "metadata": {},
   "source": [
    "![image info](https://raw.githubusercontent.com/albahnsen/MIAD_ML_and_NLP/main/images/banner_1.png)"
   ]
  },
  {
   "cell_type": "markdown",
   "metadata": {},
   "source": [
    "# Taller: Construcción e implementación de modelos Bagging, Random Forest y XGBoost\n",
    "\n",
    "En este taller podrán poner en práctica sus conocimientos sobre la construcción e implementación de modelos de Bagging, Random Forest y XGBoost. El taller está constituido por 8 puntos, en los cuales deberan seguir las intrucciones de cada numeral para su desarrollo."
   ]
  },
  {
   "cell_type": "markdown",
   "metadata": {},
   "source": [
    "## Datos predicción precio de automóviles\n",
    "\n",
    "En este taller se usará el conjunto de datos de Car Listings de Kaggle donde cada observación representa el precio de un automóvil teniendo en cuenta distintas variables como año, marca, modelo, entre otras. El objetivo es predecir el precio del automóvil. Para más detalles puede visitar el siguiente enlace: [datos](https://www.kaggle.com/jpayne/852k-used-car-listings)."
   ]
  },
  {
   "cell_type": "code",
   "execution_count": 1,
   "metadata": {},
   "outputs": [],
   "source": [
    "import warnings\n",
    "warnings.filterwarnings('ignore')"
   ]
  },
  {
   "cell_type": "code",
   "execution_count": 3,
   "metadata": {},
   "outputs": [
    {
     "data": {
      "text/html": [
       "<div>\n",
       "<style scoped>\n",
       "    .dataframe tbody tr th:only-of-type {\n",
       "        vertical-align: middle;\n",
       "    }\n",
       "\n",
       "    .dataframe tbody tr th {\n",
       "        vertical-align: top;\n",
       "    }\n",
       "\n",
       "    .dataframe thead th {\n",
       "        text-align: right;\n",
       "    }\n",
       "</style>\n",
       "<table border=\"1\" class=\"dataframe\">\n",
       "  <thead>\n",
       "    <tr style=\"text-align: right;\">\n",
       "      <th></th>\n",
       "      <th>Price</th>\n",
       "      <th>Year</th>\n",
       "      <th>Mileage</th>\n",
       "      <th>M_Camry</th>\n",
       "      <th>M_Camry4dr</th>\n",
       "      <th>M_CamryBase</th>\n",
       "      <th>M_CamryL</th>\n",
       "      <th>M_CamryLE</th>\n",
       "      <th>M_CamrySE</th>\n",
       "      <th>M_CamryXLE</th>\n",
       "    </tr>\n",
       "  </thead>\n",
       "  <tbody>\n",
       "    <tr>\n",
       "      <th>7</th>\n",
       "      <td>21995</td>\n",
       "      <td>2014</td>\n",
       "      <td>6480</td>\n",
       "      <td>False</td>\n",
       "      <td>False</td>\n",
       "      <td>False</td>\n",
       "      <td>True</td>\n",
       "      <td>False</td>\n",
       "      <td>False</td>\n",
       "      <td>False</td>\n",
       "    </tr>\n",
       "    <tr>\n",
       "      <th>11</th>\n",
       "      <td>13995</td>\n",
       "      <td>2014</td>\n",
       "      <td>39972</td>\n",
       "      <td>False</td>\n",
       "      <td>False</td>\n",
       "      <td>False</td>\n",
       "      <td>False</td>\n",
       "      <td>True</td>\n",
       "      <td>False</td>\n",
       "      <td>False</td>\n",
       "    </tr>\n",
       "    <tr>\n",
       "      <th>167</th>\n",
       "      <td>17941</td>\n",
       "      <td>2016</td>\n",
       "      <td>18989</td>\n",
       "      <td>False</td>\n",
       "      <td>False</td>\n",
       "      <td>False</td>\n",
       "      <td>False</td>\n",
       "      <td>False</td>\n",
       "      <td>True</td>\n",
       "      <td>False</td>\n",
       "    </tr>\n",
       "    <tr>\n",
       "      <th>225</th>\n",
       "      <td>12493</td>\n",
       "      <td>2014</td>\n",
       "      <td>51330</td>\n",
       "      <td>False</td>\n",
       "      <td>False</td>\n",
       "      <td>False</td>\n",
       "      <td>True</td>\n",
       "      <td>False</td>\n",
       "      <td>False</td>\n",
       "      <td>False</td>\n",
       "    </tr>\n",
       "    <tr>\n",
       "      <th>270</th>\n",
       "      <td>7994</td>\n",
       "      <td>2007</td>\n",
       "      <td>116065</td>\n",
       "      <td>False</td>\n",
       "      <td>True</td>\n",
       "      <td>False</td>\n",
       "      <td>False</td>\n",
       "      <td>False</td>\n",
       "      <td>False</td>\n",
       "      <td>False</td>\n",
       "    </tr>\n",
       "  </tbody>\n",
       "</table>\n",
       "</div>"
      ],
      "text/plain": [
       "     Price  Year  Mileage  M_Camry  M_Camry4dr  M_CamryBase  M_CamryL  \\\n",
       "7    21995  2014     6480    False       False        False      True   \n",
       "11   13995  2014    39972    False       False        False     False   \n",
       "167  17941  2016    18989    False       False        False     False   \n",
       "225  12493  2014    51330    False       False        False      True   \n",
       "270   7994  2007   116065    False        True        False     False   \n",
       "\n",
       "     M_CamryLE  M_CamrySE  M_CamryXLE  \n",
       "7        False      False       False  \n",
       "11        True      False       False  \n",
       "167      False       True       False  \n",
       "225      False      False       False  \n",
       "270      False      False       False  "
      ]
     },
     "execution_count": 3,
     "metadata": {},
     "output_type": "execute_result"
    }
   ],
   "source": [
    "# Importación de librerías\n",
    "%matplotlib inline\n",
    "import pandas as pd\n",
    "\n",
    "# Lectura de la información de archivo .csv\n",
    "data = pd.read_csv('https://raw.githubusercontent.com/albahnsen/MIAD_ML_and_NLP/main/datasets/dataTrain_carListings.zip')\n",
    "\n",
    "# Preprocesamiento de datos para el taller\n",
    "data = data.loc[data['Model'].str.contains('Camry')].drop(['Make', 'State'], axis=1)\n",
    "data = data.join(pd.get_dummies(data['Model'], prefix='M'))\n",
    "data = data.drop(['Model'], axis=1)\n",
    "\n",
    "# Visualización dataset\n",
    "data.head()"
   ]
  },
  {
   "cell_type": "code",
   "execution_count": 4,
   "metadata": {},
   "outputs": [],
   "source": [
    "# Separación de variables predictoras (X) y variable de interés (y)\n",
    "y = data['Price']\n",
    "X = data.drop(['Price'], axis=1)"
   ]
  },
  {
   "cell_type": "code",
   "execution_count": 7,
   "metadata": {},
   "outputs": [],
   "source": [
    "# Separación de datos en set de entrenamiento y test\n",
    "from sklearn.model_selection import train_test_split\n",
    "X_train, X_test, y_train, y_test = train_test_split(X, y, test_size=0.33, random_state=42)"
   ]
  },
  {
   "cell_type": "markdown",
   "metadata": {},
   "source": [
    "### Punto 1 - Árbol de decisión manual\n",
    "\n",
    "En la celda 1 creen un árbol de decisión **manualmente**  que considere los set de entrenamiento y test definidos anteriormente y presenten el RMSE y MAE del modelo en el set de test."
   ]
  },
  {
   "cell_type": "code",
   "execution_count": 5,
   "metadata": {},
   "outputs": [
    {
     "name": "stdout",
     "output_type": "stream",
     "text": [
      "        Price  Year  Mileage  M_Camry  M_Camry4dr  M_CamryBase  M_CamryL  \\\n",
      "7       21995  2014     6480    False       False        False      True   \n",
      "11      13995  2014    39972    False       False        False     False   \n",
      "167     17941  2016    18989    False       False        False     False   \n",
      "225     12493  2014    51330    False       False        False      True   \n",
      "270      7994  2007   116065    False        True        False     False   \n",
      "...       ...   ...      ...      ...         ...          ...       ...   \n",
      "399845  20825  2017     7542    False       False        False     False   \n",
      "399928  12995  2014    49685    False       False        False     False   \n",
      "399934   8812  2009   104692    False       False         True     False   \n",
      "399951  11595  2010   105077    False        True        False     False   \n",
      "399976  13995  2012    50453    False        True        False     False   \n",
      "\n",
      "        M_CamryLE  M_CamrySE  M_CamryXLE  \n",
      "7           False      False       False  \n",
      "11           True      False       False  \n",
      "167         False       True       False  \n",
      "225         False      False       False  \n",
      "270         False      False       False  \n",
      "...           ...        ...         ...  \n",
      "399845      False       True       False  \n",
      "399928      False       True       False  \n",
      "399934      False      False       False  \n",
      "399951      False      False       False  \n",
      "399976      False      False       False  \n",
      "\n",
      "[10495 rows x 10 columns]\n"
     ]
    }
   ],
   "source": [
    "print(data)"
   ]
  },
  {
   "cell_type": "code",
   "execution_count": 8,
   "metadata": {},
   "outputs": [
    {
     "name": "stdout",
     "output_type": "stream",
     "text": [
      "Mejor variable: Year\n",
      "Mejor umbral: 2012\n",
      "Valor izquierdo (pred): 9761.05\n",
      "Valor derecho (pred): 16359.77\n",
      "\n",
      "Desempeño en test:\n",
      "RMSE: 2552.27\n",
      "MAE: 1977.61\n"
     ]
    }
   ],
   "source": [
    "# Celda 1\n",
    "import numpy as np\n",
    "import pandas as pd\n",
    "from sklearn.metrics import mean_squared_error, mean_absolute_error\n",
    "\n",
    "# Inicializamos\n",
    "best_feature = None\n",
    "best_threshold = None\n",
    "best_mse = np.inf\n",
    "best_left_value = None\n",
    "best_right_value = None\n",
    "\n",
    "# Recorremos todas las variables\n",
    "for feature in X_train.columns:\n",
    "    values = X_train[feature].unique()\n",
    "    for threshold in values:\n",
    "        left_mask = X_train[feature] <= threshold\n",
    "        right_mask = ~left_mask\n",
    "\n",
    "        # Evitar splits sin datos\n",
    "        if left_mask.sum() == 0 or right_mask.sum() == 0:\n",
    "            continue\n",
    "\n",
    "        y_left = y_train[left_mask]\n",
    "        y_right = y_train[right_mask]\n",
    "\n",
    "        # Predicción como media en cada grupo\n",
    "        pred_left = y_left.mean()\n",
    "        pred_right = y_right.mean()\n",
    "\n",
    "        # Cálculo del error (MSE)\n",
    "        mse_left = np.mean((y_left - pred_left) ** 2)\n",
    "        mse_right = np.mean((y_right - pred_right) ** 2)\n",
    "        weighted_mse = (len(y_left) * mse_left + len(y_right) * mse_right) / len(y_train)\n",
    "\n",
    "        # Guardamos si es el mejor split\n",
    "        if weighted_mse < best_mse:\n",
    "            best_mse = weighted_mse\n",
    "            best_feature = feature\n",
    "            best_threshold = threshold\n",
    "            best_left_value = pred_left\n",
    "            best_right_value = pred_right\n",
    "\n",
    "# Mostrar el mejor split\n",
    "print(f\"Mejor variable: {best_feature}\")\n",
    "print(f\"Mejor umbral: {best_threshold}\")\n",
    "print(f\"Valor izquierdo (pred): {best_left_value:.2f}\")\n",
    "print(f\"Valor derecho (pred): {best_right_value:.2f}\")\n",
    "\n",
    "# Hacemos predicciones en el test\n",
    "left_mask_test = X_test[best_feature] <= best_threshold\n",
    "y_pred_test = np.where(left_mask_test, best_left_value, best_right_value)\n",
    "\n",
    "# Evaluamos\n",
    "rmse = np.sqrt(mean_squared_error(y_test, y_pred_test))\n",
    "mae = mean_absolute_error(y_test, y_pred_test)\n",
    "\n",
    "print(f\"\\nDesempeño en test:\")\n",
    "print(f\"RMSE: {rmse:.2f}\")\n",
    "print(f\"MAE: {mae:.2f}\")"
   ]
  },
  {
   "cell_type": "code",
   "execution_count": 10,
   "metadata": {},
   "outputs": [
    {
     "name": "stdout",
     "output_type": "stream",
     "text": [
      "RMSE: 11125.98\n",
      "MAE: 7048.25\n"
     ]
    },
    {
     "data": {
      "image/png": "[encoded data removed]",
      "text/plain": [
       "<Figure size 1200x600 with 1 Axes>"
      ]
     },
     "metadata": {},
     "output_type": "display_data"
    }
   ],
   "source": [
    "import pandas as pd\n",
    "import numpy as np\n",
    "from sklearn.tree import DecisionTreeRegressor, plot_tree\n",
    "from sklearn.model_selection import train_test_split\n",
    "from sklearn.metrics import mean_squared_error, mean_absolute_error\n",
    "import matplotlib.pyplot as plt\n",
    "\n",
    "# Parámetros\n",
    "n_estimators = 10\n",
    "n_samples = X_train.shape[0]\n",
    "\n",
    "# Inicialización de estructuras\n",
    "weights = pd.DataFrame(index=X_train.index)\n",
    "trees = []\n",
    "alpha = []\n",
    "\n",
    "# Paso 0: pesos iniciales uniformes\n",
    "weights[0] = np.ones(n_samples) / n_samples\n",
    "\n",
    "# Paso 1: primer árbol\n",
    "tree = DecisionTreeRegressor(max_depth=1)\n",
    "tree.fit(X_train, y_train, sample_weight=weights[0].values)\n",
    "trees.append(tree)\n",
    "\n",
    "# Predicción, error, alpha\n",
    "y_pred_ = tree.predict(X_train)\n",
    "residual = y_train - y_pred_\n",
    "error_t = mean_squared_error(y_train, y_pred_, sample_weight=weights[0].values)\n",
    "alpha_t = 0.5 * np.log(1 / (error_t + 1e-10))\n",
    "alpha.append(alpha_t)\n",
    "\n",
    "# Actualización de pesos\n",
    "weights[1] = weights[0] * np.exp(alpha_t * (residual ** 2))\n",
    "if weights[1].sum() == 0 or weights[1].isna().any():\n",
    "    weights[1] = np.ones(n_samples) / n_samples\n",
    "else:\n",
    "    weights[1] /= weights[1].sum()\n",
    "\n",
    "# Iteraciones siguientes\n",
    "for t in range(1, n_estimators):\n",
    "    tree = DecisionTreeRegressor(max_depth=1)\n",
    "    \n",
    "    # Asegurar que los pesos sean válidos\n",
    "    current_weights = weights[t].copy()\n",
    "    if current_weights.isna().any() or current_weights.sum() == 0:\n",
    "        current_weights = np.ones(n_samples) / n_samples\n",
    "\n",
    "    tree.fit(X_train, y_train, sample_weight=current_weights.values)\n",
    "    trees.append(tree)\n",
    "\n",
    "    y_pred_ = tree.predict(X_train)\n",
    "    residual = y_train - y_pred_\n",
    "    error_t = mean_squared_error(y_train, y_pred_, sample_weight=current_weights.values)\n",
    "    alpha_t = 0.5 * np.log(1 / (error_t + 1e-10))\n",
    "    alpha.append(alpha_t)\n",
    "\n",
    "    weights[t + 1] = current_weights * np.exp(alpha_t * (residual ** 2))\n",
    "    if weights[t + 1].sum() == 0 or weights[t + 1].isna().any():\n",
    "        weights[t + 1] = np.ones(n_samples) / n_samples\n",
    "    else:\n",
    "        weights[t + 1] /= weights[t + 1].sum()\n",
    "\n",
    "# --- Predicción final sobre test ---\n",
    "# Cada árbol predice, ponderamos por alpha\n",
    "y_preds_test = np.array([model.predict(X_test) for model in trees])\n",
    "alpha_array = np.array(alpha).reshape(-1, 1)\n",
    "y_pred_final = np.dot(alpha_array.T, y_preds_test).flatten() / np.sum(alpha)\n",
    "\n",
    "# --- Métricas ---\n",
    "rmse = mean_squared_error(y_test, y_pred_final, squared=False)\n",
    "mae = mean_absolute_error(y_test, y_pred_final)\n",
    "\n",
    "print(f\"RMSE: {rmse:.2f}\")\n",
    "print(f\"MAE: {mae:.2f}\")\n",
    "\n",
    "\n",
    "# --- Visualización del primer árbol ---\n",
    "plt.figure(figsize=(12, 6))\n",
    "plot_tree(trees[0], feature_names=X_train.columns, filled=True)\n",
    "plt.title(\"Primer árbol de decisión (max_depth=1)\")\n",
    "plt.show()"
   ]
  },
  {
   "cell_type": "markdown",
   "metadata": {},
   "source": [
    "### Punto 2 - Bagging manual\n",
    "\n",
    "En la celda 2 creen un modelo bagging **manualmente** con 10 árboles de regresión y comenten sobre el desempeño del modelo."
   ]
  },
  {
   "cell_type": "code",
   "execution_count": 11,
   "metadata": {},
   "outputs": [
    {
     "name": "stdout",
     "output_type": "stream",
     "text": [
      "Árbol 0: RMSE = 2141.61, MAE = 1605.30\n",
      "Árbol 1: RMSE = 2136.35, MAE = 1589.85\n",
      "Árbol 2: RMSE = 2122.72, MAE = 1577.73\n",
      "Árbol 3: RMSE = 2087.28, MAE = 1569.61\n",
      "Árbol 4: RMSE = 2168.52, MAE = 1614.82\n",
      "Árbol 5: RMSE = 2113.88, MAE = 1576.06\n",
      "Árbol 6: RMSE = 2127.93, MAE = 1582.15\n",
      "Árbol 7: RMSE = 2184.41, MAE = 1606.31\n",
      "Árbol 8: RMSE = 2138.11, MAE = 1586.43\n",
      "Árbol 9: RMSE = 2132.10, MAE = 1587.77\n",
      "\n",
      "Modelo Bagging - RMSE: 1796.44, MAE: 1340.02\n"
     ]
    }
   ],
   "source": [
    "# Semilla para reproducibilidad\n",
    "np.random.seed(123)\n",
    "\n",
    "# Número de árboles\n",
    "n_estimators = 10\n",
    "\n",
    "# Número de observaciones de entrenamiento\n",
    "n_samples = X_train.shape[0]\n",
    "\n",
    "# Crear muestras bootstrap\n",
    "samples = [np.random.choice(a=n_samples, size=n_samples, replace=True) for _ in range(n_estimators)]\n",
    "\n",
    "# DataFrame para guardar predicciones de cada árbol\n",
    "y_pred = pd.DataFrame(index=X_test.index, columns=range(n_estimators))\n",
    "\n",
    "# Entrenar un árbol sobre cada muestra bootstrap y predecir sobre el test\n",
    "for i, sample in enumerate(samples):\n",
    "    X_train_bootstrap = X_train.iloc[sample]\n",
    "    y_train_bootstrap = y_train.iloc[sample]\n",
    "\n",
    "    tree = DecisionTreeRegressor(max_depth=None, random_state=123)\n",
    "    tree.fit(X_train_bootstrap, y_train_bootstrap)\n",
    "\n",
    "    y_pred.iloc[:, i] = tree.predict(X_test)\n",
    "\n",
    "# Desempeño individual de cada árbol\n",
    "for i in range(n_estimators):\n",
    "    rmse = np.sqrt(mean_squared_error(y_test, y_pred.iloc[:, i]))\n",
    "    mae = mean_absolute_error(y_test, y_pred.iloc[:, i])\n",
    "    print(f'Árbol {i}: RMSE = {rmse:.2f}, MAE = {mae:.2f}')\n",
    "\n",
    "# Predicción promedio (modelo Bagging)\n",
    "y_pred_mean = y_pred.mean(axis=1)\n",
    "\n",
    "# Métricas del modelo Bagging\n",
    "bagging_rmse = np.sqrt(mean_squared_error(y_test, y_pred_mean))\n",
    "bagging_mae = mean_absolute_error(y_test, y_pred_mean)\n",
    "\n",
    "print(f'\\nModelo Bagging - RMSE: {bagging_rmse:.2f}, MAE: {bagging_mae:.2f}')"
   ]
  },
  {
   "cell_type": "code",
   "execution_count": null,
   "metadata": {},
   "outputs": [],
   "source": [
    "# Celda 2\n"
   ]
  },
  {
   "cell_type": "markdown",
   "metadata": {},
   "source": [
    "### Punto 3 - Bagging con librería\n",
    "\n",
    "En la celda 3, con la librería sklearn, entrenen un modelo bagging con 10 árboles de regresión y el parámetro `max_features` igual a `log(n_features)` y comenten sobre el desempeño del modelo."
   ]
  },
  {
   "cell_type": "code",
   "execution_count": 12,
   "metadata": {},
   "outputs": [
    {
     "name": "stdout",
     "output_type": "stream",
     "text": [
      "Modelo Bagging (10 árboles, max_features=log(n_features)) - RMSE: 2671.01, MAE: 2074.98\n"
     ]
    }
   ],
   "source": [
    "import numpy as np\n",
    "from sklearn.ensemble import BaggingRegressor\n",
    "from sklearn.tree import DecisionTreeRegressor\n",
    "from sklearn.metrics import mean_squared_error, mean_absolute_error\n",
    "\n",
    "# Calcular max_features como logaritmo natural del número de características\n",
    "n_features = X_train.shape[1]\n",
    "max_features = int(np.log(n_features))\n",
    "max_features = max(1, max_features)\n",
    "\n",
    "# Definir modelo Bagging con 10 árboles y max_features = log(n_features)\n",
    "bagreg = BaggingRegressor(\n",
    "    estimator=DecisionTreeRegressor(),\n",
    "    n_estimators=10,\n",
    "    max_features=max_features,\n",
    "    bootstrap=True,\n",
    "    oob_score=True,\n",
    "    random_state=1\n",
    ")\n",
    "\n",
    "# Entrenar el modelo y predecir\n",
    "bagreg.fit(X_train, y_train)\n",
    "y_pred = bagreg.predict(X_test)\n",
    "\n",
    "# Calcular métricas de desempeño\n",
    "rmse = np.sqrt(mean_squared_error(y_test, y_pred))\n",
    "mae = mean_absolute_error(y_test, y_pred)\n",
    "\n",
    "print(f'Modelo Bagging (10 árboles, max_features=log(n_features)) - RMSE: {rmse:.2f}, MAE: {mae:.2f}')"
   ]
  },
  {
   "cell_type": "code",
   "execution_count": null,
   "metadata": {},
   "outputs": [],
   "source": [
    "# Celda 3\n"
   ]
  },
  {
   "cell_type": "markdown",
   "metadata": {},
   "source": [
    "### Punto 4 - Random forest con librería\n",
    "\n",
    "En la celda 4, usando la librería sklearn entrenen un modelo de Randon Forest para regresión  y comenten sobre el desempeño del modelo."
   ]
  },
  {
   "cell_type": "code",
   "execution_count": 14,
   "metadata": {
    "scrolled": true
   },
   "outputs": [
    {
     "name": "stdout",
     "output_type": "stream",
     "text": [
      "Resumen del desempeño (RMSE) con validación cruzada:\n",
      "count      10.000000\n",
      "mean     1748.094208\n",
      "std        50.996150\n",
      "min      1686.518076\n",
      "25%      1701.504653\n",
      "50%      1744.629289\n",
      "75%      1787.642876\n",
      "max      1821.979457\n",
      "dtype: float64\n",
      "\n",
      "Resumen del desempeño (MAE) con validación cruzada:\n",
      "count      10.000000\n",
      "mean     1306.320929\n",
      "std        22.587372\n",
      "min      1278.598424\n",
      "25%      1290.187602\n",
      "50%      1299.693870\n",
      "75%      1316.381957\n",
      "max      1349.000460\n",
      "dtype: float64\n"
     ]
    }
   ],
   "source": [
    "# Celda 4\n",
    "from sklearn.ensemble import RandomForestRegressor\n",
    "from sklearn.model_selection import cross_val_score\n",
    "import numpy as np\n",
    "import pandas as pd\n",
    "from sklearn.metrics import mean_absolute_error, make_scorer\n",
    "\n",
    "# Definir el modelo de regresión\n",
    "reg = RandomForestRegressor(random_state=42)\n",
    "\n",
    "# --- RMSE ---\n",
    "# Validación cruzada con 10 particiones usando MSE\n",
    "mse_scores = cross_val_score(reg, X, y, cv=10, scoring='neg_mean_squared_error')\n",
    "rmse_scores = np.sqrt(-mse_scores)\n",
    "\n",
    "print(\"Resumen del desempeño (RMSE) con validación cruzada:\")\n",
    "print(pd.Series(rmse_scores).describe())\n",
    "\n",
    "# --- MAE ---\n",
    "# Definir scorer para MAE\n",
    "mae_scorer = make_scorer(mean_absolute_error, greater_is_better=False)\n",
    "\n",
    "# Validación cruzada para MAE\n",
    "mae_scores = cross_val_score(reg, X, y, cv=10, scoring=mae_scorer)\n",
    "mae_scores = -mae_scores  # Pasar a positivo\n",
    "\n",
    "print(\"\\nResumen del desempeño (MAE) con validación cruzada:\")\n",
    "print(pd.Series(mae_scores).describe())\n"
   ]
  },
  {
   "cell_type": "markdown",
   "metadata": {},
   "source": [
    "En la evaluación inicial del modelo de Random Forest sin calibración, se obtuvo un RMSE promedio de 1748.09 y un MAE promedio de 1306.32 con validación cruzada de 10 particiones. Estos valores indican que el modelo tiene un error relativamente alto al predecir los valores reales, especialmente considerando que el RMSE penaliza fuertemente los errores grandes. Además, la baja desviación estándar en ambas métricas (50.99 para RMSE y 22.59 para MAE) indica que el modelo tiene un desempeño consistente entre particiones, pero aún insuficiente en precisión. Estos resultados sirvieron para la posterior calibración de hiperparámetros y poder mejorar el rendimiento predictivo del modelo."
   ]
  },
  {
   "cell_type": "markdown",
   "metadata": {},
   "source": [
    "### Punto 5 - Calibración de parámetros Random forest\n",
    "\n",
    "En la celda 5, calibren los parámetros max_depth, max_features y n_estimators del modelo de Randon Forest para regresión, comenten sobre el desempeño del modelo y describan cómo cada parámetro afecta el desempeño del modelo."
   ]
  },
  {
   "cell_type": "code",
   "execution_count": 23,
   "metadata": {},
   "outputs": [
    {
     "name": "stdout",
     "output_type": "stream",
     "text": [
      "Fitting 5 folds for each of 90 candidates, totalling 450 fits\n",
      "Mejores parámetros encontrados:\n",
      "{'max_depth': 10, 'max_features': 'log2', 'n_estimators': 300}\n",
      "\n",
      "Evaluación del modelo final:\n",
      "RMSE: 1356.29\n",
      "MAE : 1003.61\n"
     ]
    }
   ],
   "source": [
    "from sklearn.model_selection import GridSearchCV\n",
    "from sklearn.ensemble import RandomForestRegressor\n",
    "from sklearn.metrics import make_scorer, mean_absolute_error, mean_squared_error\n",
    "import numpy as np\n",
    "\n",
    "# Definir el modelo base\n",
    "rf = RandomForestRegressor(random_state=42, n_jobs=-1)\n",
    "\n",
    "# Definir el grid de hiperparámetros\n",
    "param_grid = {\n",
    "    'n_estimators': [50, 100, 150, 200, 250, 300],\n",
    "    'max_depth': [None, 5, 10, 15, 20],\n",
    "    'max_features': ['auto', 'sqrt', 'log2']\n",
    "}\n",
    "\n",
    "# Definir el scorer (usamos MAE como criterio de optimización, pero se puede cambiar)\n",
    "mae_scorer = make_scorer(mean_absolute_error, greater_is_better=False)\n",
    "\n",
    "# Configurar la búsqueda en grilla con validación cruzada\n",
    "grid_search = GridSearchCV(estimator=rf,\n",
    "                           param_grid=param_grid,\n",
    "                           scoring=mae_scorer,\n",
    "                           cv=5,\n",
    "                           n_jobs=-1,\n",
    "                           verbose=2)\n",
    "\n",
    "# Ejecutar la búsqueda\n",
    "grid_search.fit(X, y)\n",
    "\n",
    "# Mostrar los mejores parámetros encontrados\n",
    "print(\"Mejores parámetros encontrados:\")\n",
    "print(grid_search.best_params_)\n",
    "\n",
    "# Mejor modelo encontrado\n",
    "best_model = grid_search.best_estimator_\n",
    "\n",
    "# Evaluar el modelo final con RMSE y MAE sobre un test set (si tienes uno separado)\n",
    "from sklearn.metrics import mean_absolute_error, mean_squared_error\n",
    "\n",
    "y_pred = best_model.predict(X_test)\n",
    "\n",
    "rmse = np.sqrt(mean_squared_error(y_test, y_pred))\n",
    "mae = mean_absolute_error(y_test, y_pred)\n",
    "\n",
    "print(f\"\\nEvaluación del modelo final:\")\n",
    "print(f\"RMSE: {rmse:.2f}\")\n",
    "print(f\"MAE : {mae:.2f}\")\n"
   ]
  },
  {
   "cell_type": "markdown",
   "metadata": {},
   "source": [
    "Tras aplicar un proceso de calibración exhaustiva mediante búsqueda en malla (GridSearchCV) con validación cruzada de 5 pliegues, se evaluaron un total de 90 combinaciones de hiperparámetros para el modelo RandomForestRegressor, sumando 450 ejecuciones en total. El mejor desempeño se obtuvo con los parámetros: n_estimators = 300, max_depth = 10 y max_features = 'log2'. Al evaluar el modelo calibrado, se obtuvo un RMSE de 1356.29 y un MAE de 1003.61, lo cual representa una mejora sustancial frente a las configuraciones no optimizadas previas. Esta reducción en los errores indica que la calibración logró afinar la capacidad predictiva del modelo, manteniendo un buen equilibrio entre sesgo y varianza. Además, se observa que un número elevado de árboles 300 combinado con una profundidad de 10 y una estrategia de selección de características basada en log2 permite capturar patrones relevantes sin sobreajustar. Estos resultados confirman que el ajuste fino de los hiperparámetros puede mejorar considerablemente la precisión de las predicciones."
   ]
  },
  {
   "cell_type": "markdown",
   "metadata": {},
   "source": [
    "### Importancia de las variables"
   ]
  },
  {
   "cell_type": "code",
   "execution_count": 40,
   "metadata": {},
   "outputs": [
    {
     "name": "stdout",
     "output_type": "stream",
     "text": [
      "Importancia de características:\n",
      "       Feature  Importance\n",
      "0         Year    0.444977\n",
      "1      Mileage    0.426766\n",
      "3   M_Camry4dr    0.067300\n",
      "7    M_CamrySE    0.021711\n",
      "8   M_CamryXLE    0.019940\n",
      "6    M_CamryLE    0.007536\n",
      "2      M_Camry    0.006400\n",
      "5     M_CamryL    0.002700\n",
      "4  M_CamryBase    0.002669\n"
     ]
    },
    {
     "data": {
      "image/png": "[encoded data removed]",
      "text/plain": [
       "<Figure size 1000x600 with 1 Axes>"
      ]
     },
     "metadata": {},
     "output_type": "display_data"
    }
   ],
   "source": [
    "# Obtener importancia de cada característica\n",
    "final_model = grid_search.best_estimator_\n",
    "importances = final_model.feature_importances_\n",
    "\n",
    "# Si tienes nombres de columnas (X es un DataFrame)\n",
    "feature_names = X.columns\n",
    "\n",
    "# Crear un DataFrame ordenado\n",
    "feature_importance_df = pd.DataFrame({\n",
    "    'Feature': feature_names,\n",
    "    'Importance': importances\n",
    "}).sort_values(by='Importance', ascending=False)\n",
    "\n",
    "# Mostrar tabla si quieres\n",
    "print(\"Importancia de características:\")\n",
    "print(feature_importance_df)\n",
    "\n",
    "# Visualización\n",
    "plt.figure(figsize=(10, 6))\n",
    "plt.barh(feature_importance_df['Feature'], feature_importance_df['Importance'], color='skyblue')\n",
    "plt.xlabel('Importancia')\n",
    "plt.title('Importancia de las variables en el modelo Random Forest')\n",
    "plt.gca().invert_yaxis()\n",
    "plt.tight_layout()\n",
    "plt.show()\n"
   ]
  },
  {
   "cell_type": "markdown",
   "metadata": {},
   "source": [
    "Tras el ajuste final del modelo Random Forest con los mejores hiperparámetros seleccionados, se evaluó la importancia relativa de cada variable para entender su influencia en la predicción del precio. Los resultados muestran que las características \"Year\"  y \"Mileage\"  son, con diferencia, las más relevantes, aportando aproximadamente 44.5% y 42.7% de la importancia total respectivamente. En conjunto, estas dos variables explican cerca del 87% del comportamiento del modelo, lo que indica que los aspectos relacionados con la antigüedad y el uso del vehículo son determinantes para estimar su valor. Las variables categóricas que representan diferentes versiones del modelo \"Camry\" tienen una influencia mucho menor, siendo \"M_Camry4dr\" la más significativa dentro de este grupo, con un peso del 6.7%. El resto  contribuyen marginalmente."
   ]
  },
  {
   "cell_type": "markdown",
   "metadata": {},
   "source": [
    "### Punto 6 - XGBoost con librería\n",
    "\n",
    "En la celda 6 implementen un modelo XGBoost de regresión con la librería sklearn y comenten sobre el desempeño del modelo."
   ]
  },
  {
   "cell_type": "code",
   "execution_count": null,
   "metadata": {},
   "outputs": [],
   "source": [
    "# Celda 6\n"
   ]
  },
  {
   "cell_type": "markdown",
   "metadata": {},
   "source": [
    "### Punto 7 - Calibración de parámetros XGBoost\n",
    "\n",
    "En la celda 7 calibren los parámetros learning rate, gamma y colsample_bytree del modelo XGBoost para regresión, comenten sobre el desempeño del modelo y describan cómo cada parámetro afecta el desempeño del modelo."
   ]
  },
  {
   "cell_type": "code",
   "execution_count": null,
   "metadata": {},
   "outputs": [],
   "source": [
    "# Celda 7\n"
   ]
  },
  {
   "cell_type": "markdown",
   "metadata": {},
   "source": [
    "### Punto 8 - Comparación y análisis de resultados\n",
    "En la celda 8 comparen los resultados obtenidos de los diferentes modelos (random forest y XGBoost) y comenten las ventajas del mejor modelo y las desventajas del modelo con el menor desempeño."
   ]
  },
  {
   "cell_type": "code",
   "execution_count": null,
   "metadata": {},
   "outputs": [],
   "source": [
    "# Celda 8\n"
   ]
  }
 ],
 "metadata": {
  "kernelspec": {
   "display_name": "Python 3 (ipykernel)",
   "language": "python",
   "name": "python3"
  },
  "language_info": {
   "codemirror_mode": {
    "name": "ipython",
    "version": 3
   },
   "file_extension": ".py",
   "mimetype": "text/x-python",
   "name": "python",
   "nbconvert_exporter": "python",
   "pygments_lexer": "ipython3",
   "version": "3.12.4"
  }
 },
 "nbformat": 4,
 "nbformat_minor": 4
}
