{
 "cells": [
  {
   "cell_type": "markdown",
   "metadata": {
    "id": "Q2dvVvls7dR3"
   },
   "source": [
    "![image info](https://raw.githubusercontent.com/albahnsen/MIAD_ML_and_NLP/main/images/banner_1.png)"
   ]
  },
  {
   "cell_type": "markdown",
   "metadata": {
    "id": "rFD8i1b97dR5"
   },
   "source": [
    "# Similitud y normalización de textos\n",
    "\n",
    "En este notebook aprenderá a calcular la similitud entre diferentes textos y a normalizarlos usando sklearn y [nltk](https://www.nltk.org/).\n",
    "\n",
    "Este notebook tiene una licencia de [Creative Commons Attribution-ShareAlike 3.0 Unported License](http://creativecommons.org/licenses/by-sa/3.0/deed.en_US). Un agradecimiento especial para [\n",
    "Adrien sieg](https://medium.com/@adriensieg/text-similarities-da019229c894)"
   ]
  },
  {
   "cell_type": "markdown",
   "metadata": {
    "id": "wxPShVQq7dR6"
   },
   "source": [
    "## Instrucciones Generales\n",
    "\n",
    "La similitud y normalización de textos son tecnicas del procesamiento de lenguaje natural. Mientras que la similitud permite identificar que tan similares son un par de textos, la normalización permite convertir una palabra en su forma más básica.\n",
    "\n",
    "Este notebook esta compuesto por dos secciones. En la primera secciónn, usted beberá a obtener la similitud entre dos textos usando diferentes métricas. En la segunda parte, normalizará el texto del set de noticias populares de UCI, eliminando stopwords y haciedo stemming y lematización. Para conocer más detalles de la base, puede ingresar al siguiente [vínculo](https://archive.ics.uci.edu/ml/datasets/online+news+popularity#).\n",
    "   \n",
    "Para realizar la actividad, solo siga las indicaciones asociadas a cada celda del notebook."
   ]
  },
  {
   "cell_type": "code",
   "execution_count": 2,
   "metadata": {
    "colab": {
     "base_uri": "https://localhost:8080/"
    },
    "id": "T-WrGkB-7dR6",
    "outputId": "049e7ffb-3023-4c9c-9eec-d2056e86ce2d"
   },
   "outputs": [
    {
     "name": "stdout",
     "output_type": "stream",
     "text": [
      "3.11.7 | packaged by Anaconda, Inc. | (main, Dec 15 2023, 18:05:47) [MSC v.1916 64 bit (AMD64)]\n"
     ]
    },
    {
     "data": {
      "text/plain": [
       "'c:\\\\Users\\\\madelgado\\\\Documents\\\\GitHub\\\\MIAD_ML_NLP_2025\\\\Semana 5'"
      ]
     },
     "execution_count": 2,
     "metadata": {},
     "output_type": "execute_result"
    }
   ],
   "source": [
    "import sys\n",
    "print(sys.version)\n",
    "import os\n",
    "os.getcwd()"
   ]
  },
  {
   "cell_type": "code",
   "execution_count": 2,
   "metadata": {
    "id": "5WtbRM1K7dR8"
   },
   "outputs": [],
   "source": [
    "#pip install numpy==2.0.2 tensorflow==2.19.0 scikit-learn==1.6.1 scipy==1.13.1 nltk==3.9.1 pandas==2.2.3"
   ]
  },
  {
   "cell_type": "code",
   "execution_count": 3,
   "metadata": {
    "id": "3kJcPNAE7dR8"
   },
   "outputs": [],
   "source": [
    "#pip install -r requirements.txt "
   ]
  },
  {
   "cell_type": "code",
   "execution_count": 3,
   "metadata": {
    "id": "rqCNIoC77dR9"
   },
   "outputs": [],
   "source": [
    "import warnings\n",
    "warnings.filterwarnings('ignore')"
   ]
  },
  {
   "cell_type": "markdown",
   "metadata": {
    "id": "3XbdYNHT7dR9"
   },
   "source": [
    "## Similitud de texto"
   ]
  },
  {
   "cell_type": "markdown",
   "metadata": {
    "id": "w1QSSr6n7dR9"
   },
   "source": [
    "### Similitud de Jaccard\n",
    "La similitud de Jaccard se define como el tamaño de la intersección dividido por el tamaño de la unión de dos conjuntos."
   ]
  },
  {
   "cell_type": "code",
   "execution_count": 6,
   "metadata": {
    "id": "vRao6Vkj7dR-"
   },
   "outputs": [],
   "source": [
    "# Definición función de similitud de Jaccard que recibe como parámetros dos textos y retorna su similitud\n",
    "def jaccard_similarity(query, document):\n",
    "    # Calculo de la intersección\n",
    "    intersection = set(query.split()).intersection(set(document.split()))\n",
    "    # Calculo de la unión\n",
    "    union = set(query.split()).union(set(document.split()))\n",
    "    return len(intersection)/len(union)"
   ]
  },
  {
   "cell_type": "code",
   "execution_count": 50,
   "metadata": {
    "id": "TFSZV5Pi7dR_"
   },
   "outputs": [],
   "source": [
    "# Definición de oraciones para calculo de similitud\n",
    "s1 = \"El preprocesamiento de texto es importante para los modelos de NLP\"\n",
    "s2 = \"El NLP es importante para diferentes problemas en organizaciones\"\n",
    "\n"
   ]
  },
  {
   "cell_type": "code",
   "execution_count": 49,
   "metadata": {
    "colab": {
     "base_uri": "https://localhost:8080/"
    },
    "id": "cXOjGBt_7dR_",
    "outputId": "4925ced6-3665-4042-f851-2564728279ec"
   },
   "outputs": [
    {
     "data": {
      "text/plain": [
       "0.16666666666666666"
      ]
     },
     "execution_count": 49,
     "metadata": {},
     "output_type": "execute_result"
    }
   ],
   "source": [
    "# Impresión de la similitud de Jaccard entre las dos frases\n",
    "jaccard_similarity(s1, s2)"
   ]
  },
  {
   "cell_type": "markdown",
   "metadata": {
    "id": "_pz4XyVK7dSA"
   },
   "source": [
    "### Similitud de coseno\n",
    "\n",
    "La similitud del coseno calcula la similitud midiendo el coseno del ángulo entre dos vectores."
   ]
  },
  {
   "cell_type": "code",
   "execution_count": 16,
   "metadata": {
    "id": "9UkpH8z87dSA"
   },
   "outputs": [],
   "source": [
    "# Importación librerías\n",
    "from sklearn.feature_extraction.text import CountVectorizer\n",
    "from scipy.spatial.distance import cosine\n",
    "import numpy as np"
   ]
  },
  {
   "cell_type": "markdown",
   "metadata": {
    "id": "abl2Lbxu7dSB"
   },
   "source": [
    "#### Similitud de coseno CountVectorizer\n",
    "Al vectorizar con CountVectorizer, este tiene la limitación que palabras de un carácter no se consideran dentro del vocabulario, por ejemplo las palabras 'a' e 'y'. Con esto se tiene:"
   ]
  },
  {
   "cell_type": "code",
   "execution_count": 17,
   "metadata": {
    "id": "yrLS1KJF7dSB"
   },
   "outputs": [],
   "source": [
    "# Definición función de similitud de Coseno que recibe como parámetros dos textos y retorna su similitud\n",
    "def cosine_distance_countVectorizer(s1, s2):\n",
    "\n",
    "    # Uso de CountVectorizer para obtener vectores de una frase\n",
    "    vect = CountVectorizer(binary=True)\n",
    "    X_dtm = vect.fit_transform([s1, s2]).toarray()\n",
    "\n",
    "    return 1-cosine(X_dtm[0],X_dtm[1])"
   ]
  },
  {
   "cell_type": "code",
   "execution_count": 51,
   "metadata": {
    "colab": {
     "base_uri": "https://localhost:8080/"
    },
    "id": "SkTLy4KH7dSB",
    "outputId": "78b27496-c77b-412b-ee49-d87b696b0c82"
   },
   "outputs": [
    {
     "data": {
      "text/plain": [
       "np.float64(0.5270462766947299)"
      ]
     },
     "execution_count": 51,
     "metadata": {},
     "output_type": "execute_result"
    }
   ],
   "source": [
    "# Impresión de la similitud de coseno entre las dos frases definidas anteriormente\n",
    "cosine_distance_countVectorizer(s1, s2)"
   ]
  },
  {
   "cell_type": "markdown",
   "metadata": {
    "id": "6sxtbbsd7dSC"
   },
   "source": [
    "#### Similitud de coseno manual\n",
    "Al realizar la creación los vectores de la frase manualmente se garantiza que se consideran todas las palabras. Con esto:"
   ]
  },
  {
   "cell_type": "code",
   "execution_count": 19,
   "metadata": {
    "id": "XJkSMylO7dSC"
   },
   "outputs": [],
   "source": [
    "def obtener_vectores(union, s1, s2):\n",
    "\n",
    "    s1_l = []\n",
    "    s2_l = []\n",
    "\n",
    "    for palabra in union:\n",
    "        if palabra in s1.split():\n",
    "            s1_l.append(1)\n",
    "        else:\n",
    "            s1_l.append(0)\n",
    "\n",
    "        if palabra in s2.split():\n",
    "            s2_l.append(1)\n",
    "        else:\n",
    "            s2_l.append(0)\n",
    "\n",
    "    return s1_l, s2_l\n",
    "\n",
    "# Definición función de similitud de Coseno que recibe como parámetros dos textos y retorna su similitud\n",
    "def cosine_distance_manual(s1, s2):\n",
    "\n",
    "    union = list(set(s1.split()).union(set(s2.split())))\n",
    "\n",
    "    s1_v, s2_v = obtener_vectores(union, s1, s2)\n",
    "\n",
    "    return 1-cosine(s1_v, s2_v)"
   ]
  },
  {
   "cell_type": "code",
   "execution_count": 20,
   "metadata": {
    "colab": {
     "base_uri": "https://localhost:8080/"
    },
    "id": "SlWii7M87dSC",
    "outputId": "7388e574-8150-4d2c-eeff-5e0b94215d76",
    "scrolled": true
   },
   "outputs": [
    {
     "data": {
      "text/plain": [
       "np.float64(0.27386127875258304)"
      ]
     },
     "execution_count": 20,
     "metadata": {},
     "output_type": "execute_result"
    }
   ],
   "source": [
    "# Impresión de la similitud de coseno entre las dos frases definidas anteriormente\n",
    "cosine_distance_manual(s1, s2)"
   ]
  },
  {
   "cell_type": "markdown",
   "metadata": {
    "id": "Ydja1Aqn7dSD"
   },
   "source": [
    "La diferencia entre las distancias de coseno se obtiene por la forma de vectorizar, consideren esta segunda para el desarrollo del quiz. Los invitamos a que entiendan con detalle que hace la función manual."
   ]
  },
  {
   "cell_type": "markdown",
   "metadata": {
    "id": "AfFYSe117dSD"
   },
   "source": [
    "### Codificación de Oraciones y Similitud de Coseno\n",
    "\n",
    "La codificación de oraciones es una de las representaciones más populares del vocabulario de documentos. Es capaz de capturar el contexto de una palabra en un documento, la similitud semántica y sintáctica, la relación con otras palabras, etc.\n",
    "\n",
    "Para esta sección del notebook instale la libreria tensorflow y tensorflow_hub (si aun no las ha instalado) con el comando *!pip install tensorflow* y *!pip install tensorflow_hub* respectivamente."
   ]
  },
  {
   "cell_type": "code",
   "execution_count": 21,
   "metadata": {
    "id": "a7mRFpN97dSD"
   },
   "outputs": [
    {
     "name": "stdout",
     "output_type": "stream",
     "text": [
      "WARNING:tensorflow:From C:\\Users\\madelgado\\AppData\\Local\\Temp\\ipykernel_20032\\116382748.py:3: The name tf.disable_eager_execution is deprecated. Please use tf.compat.v1.disable_eager_execution instead.\n",
      "\n",
      "WARNING:tensorflow:From C:\\Users\\madelgado\\AppData\\Roaming\\Python\\Python311\\site-packages\\tf_keras\\src\\losses.py:2976: The name tf.losses.sparse_softmax_cross_entropy is deprecated. Please use tf.compat.v1.losses.sparse_softmax_cross_entropy instead.\n",
      "\n"
     ]
    }
   ],
   "source": [
    "# Importación librerías\n",
    "import tensorflow.compat.v1 as tf\n",
    "tf.disable_eager_execution()\n",
    "import tensorflow_hub as hub"
   ]
  },
  {
   "cell_type": "code",
   "execution_count": 22,
   "metadata": {
    "id": "a06QB23F7dSD"
   },
   "outputs": [
    {
     "name": "stdout",
     "output_type": "stream",
     "text": [
      "WARNING:tensorflow:From C:\\Users\\madelgado\\AppData\\Roaming\\Python\\Python311\\site-packages\\tensorflow_hub\\resolver.py:120: The name tf.gfile.MakeDirs is deprecated. Please use tf.io.gfile.makedirs instead.\n",
      "\n"
     ]
    },
    {
     "name": "stderr",
     "output_type": "stream",
     "text": [
      "WARNING:tensorflow:From C:\\Users\\madelgado\\AppData\\Roaming\\Python\\Python311\\site-packages\\tensorflow_hub\\resolver.py:120: The name tf.gfile.MakeDirs is deprecated. Please use tf.io.gfile.makedirs instead.\n",
      "\n"
     ]
    },
    {
     "name": "stdout",
     "output_type": "stream",
     "text": [
      "WARNING:tensorflow:From C:\\Users\\madelgado\\AppData\\Roaming\\Python\\Python311\\site-packages\\tensorflow_hub\\module_v2.py:126: The name tf.saved_model.load_v2 is deprecated. Please use tf.compat.v2.saved_model.load instead.\n",
      "\n"
     ]
    },
    {
     "name": "stderr",
     "output_type": "stream",
     "text": [
      "WARNING:tensorflow:From C:\\Users\\madelgado\\AppData\\Roaming\\Python\\Python311\\site-packages\\tensorflow_hub\\module_v2.py:126: The name tf.saved_model.load_v2 is deprecated. Please use tf.compat.v2.saved_model.load instead.\n",
      "\n"
     ]
    }
   ],
   "source": [
    "## Importación el módulo TF Hub del Universal Sentence Encoder\n",
    "module_url = \"https://tfhub.dev/google/universal-sentence-encoder/4\"\n",
    "embed = hub.load(module_url)"
   ]
  },
  {
   "cell_type": "code",
   "execution_count": 24,
   "metadata": {
    "id": "nkujXXen7dSE"
   },
   "outputs": [],
   "source": [
    "# Codificación de las frases anteriormente definidas con la libreria tensorflow\n",
    "with tf.Session() as session:\n",
    "    session.run([tf.global_variables_initializer(), tf.tables_initializer()])\n",
    "    sentences_embeddings = session.run(embed([s1, s2]))"
   ]
  },
  {
   "cell_type": "code",
   "execution_count": 25,
   "metadata": {
    "colab": {
     "base_uri": "https://localhost:8080/"
    },
    "id": "MH7093KZ7dSE",
    "outputId": "9c2884f8-eb6b-4ec9-c7d7-7c4e1084eb7c"
   },
   "outputs": [
    {
     "data": {
      "text/plain": [
       "array([[ 0.00112492, -0.05461062, -0.05706681, ..., -0.07854681,\n",
       "        -0.0074173 , -0.08419687],\n",
       "       [-0.00924624,  0.03860932, -0.04020129, ..., -0.08117636,\n",
       "        -0.05272641, -0.09135485]], dtype=float32)"
      ]
     },
     "execution_count": 25,
     "metadata": {},
     "output_type": "execute_result"
    }
   ],
   "source": [
    "#Impresión de las codificaciones\n",
    "sentences_embeddings"
   ]
  },
  {
   "cell_type": "code",
   "execution_count": 26,
   "metadata": {
    "colab": {
     "base_uri": "https://localhost:8080/"
    },
    "id": "LtV4eBp37dSE",
    "outputId": "2e663721-bbdf-4d7e-aaf3-ec143af3cd18"
   },
   "outputs": [
    {
     "data": {
      "text/plain": [
       "np.float32(0.7092906)"
      ]
     },
     "execution_count": 26,
     "metadata": {},
     "output_type": "execute_result"
    }
   ],
   "source": [
    "# Impresión de la similitud de coseno entre las dos frases definidas anteriormente usando codificación de oraciones\n",
    "1-cosine(sentences_embeddings[0], sentences_embeddings[1])"
   ]
  },
  {
   "cell_type": "markdown",
   "metadata": {
    "id": "O3b62FlO7dSE"
   },
   "source": [
    "## Normalización de textos"
   ]
  },
  {
   "cell_type": "code",
   "execution_count": 27,
   "metadata": {
    "id": "R1_s0piM7dSF"
   },
   "outputs": [],
   "source": [
    "# Importación librerías\n",
    "import pandas as pd\n",
    "import numpy as np\n",
    "import scipy as sp\n",
    "from sklearn.model_selection import train_test_split, cross_val_score\n",
    "from sklearn.feature_extraction.text import CountVectorizer, TfidfVectorizer\n",
    "from sklearn.naive_bayes import MultinomialNB\n",
    "from sklearn import metrics\n",
    "from nltk.stem.snowball import SnowballStemmer\n",
    "%matplotlib inline"
   ]
  },
  {
   "cell_type": "code",
   "execution_count": 28,
   "metadata": {
    "colab": {
     "base_uri": "https://localhost:8080/",
     "height": 695
    },
    "id": "ZwC5ujoc7dSF",
    "outputId": "6666b53c-0478-44e2-93ed-27169c6b4c1d"
   },
   "outputs": [
    {
     "data": {
      "application/vnd.microsoft.datawrangler.viewer.v0+json": {
       "columns": [
        {
         "name": "index",
         "rawType": "int64",
         "type": "integer"
        },
        {
         "name": "author",
         "rawType": "object",
         "type": "string"
        },
        {
         "name": "author_web",
         "rawType": "object",
         "type": "string"
        },
        {
         "name": "shares",
         "rawType": "int64",
         "type": "integer"
        },
        {
         "name": "text",
         "rawType": "object",
         "type": "string"
        },
        {
         "name": "title",
         "rawType": "object",
         "type": "string"
        },
        {
         "name": "facebo",
         "rawType": "object",
         "type": "unknown"
        },
        {
         "name": "google",
         "rawType": "object",
         "type": "unknown"
        },
        {
         "name": "linked",
         "rawType": "object",
         "type": "unknown"
        },
        {
         "name": "twitte",
         "rawType": "object",
         "type": "unknown"
        },
        {
         "name": "twitter_followers",
         "rawType": "int64",
         "type": "integer"
        }
       ],
       "conversionMethod": "pd.DataFrame",
       "ref": "3060f3be-a21b-4bdb-952a-20bfdc6d4e94",
       "rows": [
        [
         "0",
         "Seth Fiegerman",
         "http://mashable.com/people/seth-fiegerman/",
         "4900",
         "\nApple's long and controversial ebook case has reached its final chapter — and it's not the happy ending the company wanted.\nThe Supreme Court on Monday rejected an appeal filed by Apple to overturn a stinging ruling that it led a broad conspiracy with several major publishers to fix the price of e-books sold through its online bookstore.\nThe court's decision means Apple now has no choice but to pay out $400 million to consumers and an additional $50 million in legal fees, according to the original settlement in 2014.\nSEE ALSO: Here's how Apple marshalled the entire tech industry in its fight with the FBI\nFor Apple, the final verdict is more damaging to its reputation as a consumer-friendly brand, not to mention the legacy of its beloved founder Steve Jobs, than to its actual bottom line.\nTo put the fine in context, the total $450 million payout is equal to about a little more than half the sales Apple generates on average each day, based on the $75.9 billion in revenue it reported in the most recent quarter.\nThe price-fixing episode dates back to late 2009, just ahead of the original iPad launch. Apple and its founder, recognizing that books would likely be a big selling point of the tablet, began courting what were then the big five book publishers.\nIn a series of e-mails, later released by the U.S. government, Jobs personally persuaded publishing industry executives to re-think the flat $9.99 e-book pricing previously imposed by Amazon, then (and now) the giant of the e-book world.\n\"All the major publishers tell us that Amazon’s $9.99 price for new releases is eroding the value perception of their products in customer’s minds, and they do not want this practice to continue for new releases.\" Jobs wrote in one email to James Murdoch, an executive at News Corp, which owns Harper Collins.\n\nAn email Apple CEO Steve Jobs sent to News Corp exec James Murdoch.Image:  screengrab,  mashableThe major publishers, unhappy about the unfavorable terms they'd agreed to with Amazon, signed on to Apple's plan and later used the new competition to pressure Amazon into changing its own pricing structure.\nWhile some in the publishing industry argued this move helped break up Amazon's potential monopoly on the market, the U.S. government accused Apple and the five publishers of colluding to keep prices high.\nThe publishers — Hachette, HarperCollins, Macmillan, Penguin and Simon & Schuster — all settled with the Department of Justice before going to trial. \nOnly Apple, armed with the unwavering belief in its own rightness, argued the case in the courts. \n\"We are ready to distribute the court-mandated settlement funds to Kindle customers as soon as we’re instructed to move forward,\" a spokesperson for Amazon said in a statement provided to Mashable.\nReps for Apple did not immediately respond to our request for comment on the Supreme Court decision. However, a company statement after its big loss in court in 2013 says it all. \n\"When we introduced the iBookstore in 2010, we gave customers more choice, injecting much needed innovation and competition into the market, breaking Amazon's monopolistic grip on the publishing industry,\" Apple said in a statement at the time. \"We've done nothing wrong.\"\nThe U.S. courts have once again determined otherwise.\n",
         "The Supreme Court smacked down Apple today",
         "http://www.facebook.com/sfiegerman",
         null,
         "http://www.linkedin.com/in/sfiegerman",
         "https://twitter.com/sfiegerman",
         "14300"
        ],
        [
         "1",
         "Rebecca Ruiz",
         "http://mashable.com/people/rebecca-ruiz/",
         "1900",
         "Analysis\n\n\n\n\n\nThere is a reason that Donald Trump's outrageous statements and behavior feel familiar to many women. \nIt's not because they know his declarative style and trademark shrug from reality television or political debates. Nor is it because his outsized role in American business made an unforgettable impression on them.\nSEE ALSO: As Donald Trump targets women, Republicans say he could cost the party everything\nThe eerie familiarity is more personal than that. They know Trump because they've encountered a man like him at home, work, on social media or in a relationship. \nThis man extols the virtues of women, but has no problem reducing them to sex objects. He casts himself as unflappable, but blames a woman when his weaknesses are revealed. He insists on personal responsibility, but denies, deflects and perhaps even turns violent when accused of wrongdoing. \n\nThe media is so after me on women  Wow, this is a tough business. Nobody has more respect for women than Donald Trump!\n— Donald J. Trump (@realDonaldTrump) March 26, 2016\n\nThe psychological warfare of gaslighting, a subtle form of emotional abuse that puts the victim on the defensive, is his go-to strategy.    \nThis is not how Trump sees himself or his actions, but it is arguably the image he projects to voters. On Tuesday, when Florida police charged his campaign manager, Corey Lewandowski, with battery of a female reporter, Trump issued a series of tweets refuting the video evidence, discrediting the journalist and implying she could have been a dangerous or deadly threat. \n\nWow, Corey Lewandowski, my campaign manager and a very decent man, was just charged with assaulting a reporter. Look at tapes-nothing there!\n— Donald J. Trump (@realDonaldTrump) March 29, 2016\n\nPowerful women on the left and right forcefully criticized Trump's reaction to the charges. \n“Too often victims of violence and abuse stay silent, and Donald Trump’s remarks today demonstrate one of the reasons why,\" Dawn Laguens, executive vice president of the Planned Parenthood Action Fund, said in a statement. \"His actions today underscore that it is a fiction that he has been or would be supportive of any woman in this country.\"\n\nThis was the reporters statement- when she found out there was tape from my facility, she changed her tune. pic.twitter.com/N5815RS1At\n— Donald J. Trump (@realDonaldTrump) March 29, 2016\n\n\nWhy is this reporter touching me as I leave news conference? What is in her hand?? pic.twitter.com/HQB8dl0fhn\n— Donald J. Trump (@realDonaldTrump) March 29, 2016\n\nOn Wednesday, a group of conservative female journalists and commentators called for Lewandowski's firing.\nTrump has a track record of making his female targets — and their defenders — seem like the foolish ones.\n\nNichole Bauer, assistant professor in the political science department at the University of Alabama, says the response was classic Trump. He's practiced at denying previous statements even when incontrovertible evidence of them exists. While this isn't exclusive to his commentary about women, Trump has a track record of making his female targets — and their defenders — seem like the foolish ones. \nOf course he wasn't making a reference to menstruation when he joked about Fox anchor Megyn Kelly having \"blood coming out of her wherever\" during a debate. And no, he most certainly did not use schlonged as a vulgar term when describing how badly Pres. Barack Obama beat Hillary Clinton in the 2008 Democratic presidential primary. \n\nThe press is going out of their way to convince people that I do not like or respect women, when they know that it is just the opposite!\n— Donald J. Trump (@realDonaldTrump) March 26, 2016\n\n\"There’s definitely an accepted belief among the Republican and Democratic mainstream that this sort of outmoded sexism that Donald Trump demonstrates has no real place in discourse,\" says Bauer. \nYet, instead of apologizing, or acknowledging how the woman in question — or any woman, for that matter — might find his remarks offensive, Trump doubled down and obfuscated reality. \nMany women have been here before, whether it's with a coworker who denies the meaning of a sexist comment or a partner who is quick to end an argument by using the word emotional. \n...he's telling women that they don't deserve the same respect and agency as men.\nTrump's denials may make him appear unassailable to some, but to women they send an entirely different message, says Bauer. By denying the nature of his commentary and behavior, he's telling women that they don't deserve the same respect and agency as men. \nWhile Republican women tend to support traditional roles, Bauer says, they do so believing that deference to a male authority figure or husband is their choice. Trump's faultless behavior effectively takes that autonomy away from them by creating a political climate in which the woman is always wrong. \nThis may explain why he performed so poorly with Republican women in one recent survey. That NBC/WSJ poll found that 47% of female Republican primary voters cannot see themselves voting for Trump. His favorability ratings were higher, at 59%, amongst registered Republican women in a CNN/ORC poll, though it did not ask whether they intended to vote for him.\n\n\"@Don_Vito_08: \"A picture is worth a thousand words\" @realDonaldTrump #LyingTed #NeverCruz @MELANIATRUMP pic.twitter.com/5bvVEwMVF8\"\n— Donald J. Trump (@realDonaldTrump) March 24, 2016\n\nThese polls also don't fully reflect his recent, unseemly attacks on Heidi Cruz, wife of his opponent Sen. Ted Cruz, or his statement on Wednesday that if abortion is banned, women who have one illegally should \"face some sort of punishment.\" \nThough Trump immediately clarified that comment as a response to a hypothetical question and then reversed his position, it's clear that he's not only willing to publicly embarrass and degrade women, but also consider depriving them of physical freedom. \nSuch power dynamics aren't hypothetical to women in abusive workplaces or relationships, who cannot fathom a political reality that mirrors their private hell. \n\"People are doing it as a strategy to control others and elevate themselves and insulate themselves from attack.\"\nJackie White, emerita professor of psychology and a senior research scientist at the Center for Women’s Health and Wellness at the University of North Carolina at Greensboro, says an approach that victimizes women and then blames them for playing a part in their degradation is about manipulation. \n\"People are doing it as a strategy to control others and elevate themselves and insulate themselves from attack,\" she says. \"They’re going to present themselves as a very self-assured, knowledgable person.\" \nMeanwhile, such behavior silences the victim. She may feel depressed, passive or paralyzed. Feelings of doubt and insecurity set in. Women know this experience well, says White. \nShe worries, however, that the tactics on display in the campaign could send just as powerful a message to men as to women. \nTrump's behavior may consciously or subconsciously lead some men to endorse harmful stereotypes and engage in emotional manipulation, particularly if they feel threatened by social and demographic change and evolving gender roles.\n\"[Trump's] actions could inspire them to feel justified in clinging to what they see as their deserved elevated status,\" White says. \nThat's what makes Donald Trump so dangerous. Even if he's offering the public a performance, the fallout is unconscionable for both women and men. \n",
         "Every woman has met a man like Donald Trump",
         null,
         null,
         null,
         "https://twitter.com/rebecca_ruiz",
         "3738"
        ],
        [
         "2",
         "Davina Merchant",
         "http://mashable.com/people/568bdab3519840193100211f/",
         "7000",
         "LONDON - Last month we reported on a dog-sized rabbit in desperate need of a new home — now just under a month later Atlas the rabbit now has a permanent home. \nAfter his story went global people from all over the world, including the U.S., Canada and France started reaching out to the Scottish Society for the Prevention of Cruelty to Animals to re-home the rabbit.   \nThanks to Jen Hislop from Ayrshire, the adorable bunny will get to stay in his native Scotland. \n\nHe even has a new buggy.Image: Facebook Scottish SPCAJen, a financial fraud investigator, told the charity, \"I burst into tears when I got the phone call saying I had been chosen to re-home Atlas and I cried again when I collected him.\" \nThe 43-year-old, who previously had two giant bunnies, currently has a giant Rex rabbit named Coconut.\nSee also: Dog-sized rabbit looking for home 'still has growing to do'\nAtlas new home has a summer house with heating and air-conditioning. He also has his own accommodation in a large garden enclosure as well as the run of the house.\n\nTo Jen, the rabbit was the perfect addition to her family and the only thing she changed about him was his name. Say hello to Atilla the Bun Binky Master Jazz Paws, but don't worry you can call \"him Atty for short!\"\n",
         "Adorable dog-sized rabbit finally finds his forever home",
         null,
         "https://plus.google.com/105525238342980116477?rel=author",
         null,
         null,
         "0"
        ],
        [
         "3",
         "Scott Gerber",
         "[]",
         "5000",
         "Today's digital marketing experts must have a diverse skill set, including a sophisticated grasp of available media channels, the ability to identify up-and-coming opportunities, on top of having the basic skills of a brilliant marketer. What's more, they have to possess a balance of critical and creative thinking skills in order to drive measurable success for their company.\nThat's why I asked 15 members of Young Entrepreneur Council (YEC) what they look for when hiring digital marketers. Their best answers are below.\n1. Paid social media advertising expertise\n\nA new digital marketing hire should be well-versed in paid social media advertising, especially through Facebook or a similar social platform that our company uses regularly. They need to be able to understand and implement Facebook analytics and insights, create \"lookalike\" and custom audiences, experiment and test creative campaign and images, and be secure in their knowledge of the overall social media landscape. There are many budget-saving opportunities within the social media advertising space, so we want to make sure that our digital marketing talent knows the ins and outs of this popular and easy-to-implement marketing space. \n— Miles Jennings, Recruiter.com\nSEE ALSO: Web developers, data scientists, AI experts: The 15 top tech roles of 2016\n\n2. Sales skills\n\nWe've hired many digital marketers over the years, both outsourced and in-house. What we've found is that people who have sold successfully are much better marketers. They know how to engage with people and turn them into sales opportunities. While your digital marketers may not be closing deals directly, they need to know how to sell or they'll be wasting your valuable marketing dollars without generating qualified lead opportunities for your sales team. \n— Mark Cenicola, BannerView.com\n3. Specific marketing channel expertise \n\nI see so many marketers who extol the virtues of every conceivable marketing channel: email, SEO, SEM, social, etc. And many channels might work for you, but the key to a successful marketing strategy is focusing on a few channels and using them really well. Often that means understanding the dynamics of that marketing channel deeply and leveraging those dynamics for your specific company. For example, in helping local businesses, Pinterest is less interesting (although it's one of the best drivers of ecommerce traffic). I'd much rather focus on the intricate tactics of local SEO to get a client to No. 1 on Google, Maps and Yelp.\n— Trevor Sumner, LocalVox\n4. The ability to think objectively \n\nMarketers are usually one of the most passionate workers in the office. However, that passion can often cloud the judgment and measurement of marketing theories and initiatives. A marketer who can separate themselves from their work will navigate with an objective eye that can focus on what actually works — not just what they hoped would work.\n— Wesley Mathews, High Level Marketing\n5. The ability to execute and analyze drip marketing campaigns\n\nInbound marketing is a key skill in driving lead generation. While many marketers can come up with an initial innovative engagement strategy or CPC campaign, what intrigues me more is how they examine the incoming data and create a robust drip marketing campaign. Great automation on these campaigns is not about sending the same email to the entire flock that the campaign gathers. It's about personal, well-written communication that varies depending on the actions performed seven emails deep into the campaign. That's a lot of variation, and requires an analytical mindset and strategic thinking. Exceptional marketing happens when the art of communication expands upon the fundamental science of conversion. \n— Eran Eyal, Springleap \nSEE ALSO: 11 things your startup should look for in a creative hire for 2016\n\n6. A mix of creativity and analytical abilities\n\nDigital marketing requires both creative thinking and analytical thinking, so we look for a candidate capable of and excited about both. Many new candidates want to focus purely on one or the other, but it's important to bring \"art and science\" to each digital program. Digital marketing allows us to be very measurable — even for beautiful creative campaigns — using analytics to inform future strategies. \n— Kayla Wagner Faires, Revel Interactive\n7. Good copy and visual storytelling abilities \n\nDigital media is a copy- and visual-driven medium unlike any other before it. Our social heart is won over (or double clicked on) by copy that is relevant and visuals that pull on our emotional strings. The native understanding and ability to manipulate those two elements is critical in today's digital marketing landscape. \n— Alex Frias, Track Marketing Group\n8. A likable personality\n\nRelationship building is such a huge component of digital marketing, and a likable personality can go a long way. With so many people trying to connect with publishers, bloggers, journalists and influencers, someone with a great personality will always stand out and command attention. If you are being pitched by two similar people and one person is the equivalent to talking to a brick wall and the other person is outgoing and pleasant, who are you going to give your time to? The same applies to maintaining relationships — having a likable personality plays such a huge role, yet it's often overlooked. \n— Jonathan Long, Market Domination Media\nSEE ALSO: 14 mobile marketing trends that will dominate in 2016\n\n9. An understanding of WordPress\n\nWith so many platforms now built on WordPress, it is a vital technical tool to add to your toolbox. If you want to create and manage a blog or even a website, WordPress has become the go-to platform for digital marketers. It also helps to continually educate yourself on new plug-ins and functionality because WordPress is always offering something new and useful that speeds up content production. \n— Angela Ruth, Due.com \n10. Self-promotion savvy \n\nIf you're telling me that you have a strong understanding of social media and leveraging brands, then it should be very easy for you to do the same with your own. My interviewees are their own first project, and I use information I can find on them to make my final decision. Something should come up when I search their names, preferably on all the same platforms that I want to use for my clients. Messaging and vis-a-vis skills should be consistent across most platforms, and some obvious care should be put into the presentation and expansion of each one.\n— Adam Steele, The Magistrate\n11. Understanding of brevity\n\nIt doesn't matter how good your product is if you can't communicate your value proposition to potential customers in fewer than 140 characters. Digital marketers must be efficient and effective with minimal messaging. \n— Nicholas Haase, Loot!\n12. The ability to analyze quantifiable metrics\n\nNow, more than ever, being able to quantify the value of investing in marketing and advertising is vital. The battle for supremacy in the marketplace is not won in whole percentage points any longer. It's about making the right choices and moving the needle slightly forward at every opportunity. Digital marketing consultants need to possess the competencies and the general knowledge required to provide actionable metrics, and prove their value with real data. Gone are the days of guessing whether or not a campaign was effective based on simple sales numbers. In-page tracking, coupled with analytics and metrics software are the tools of the day for marketers, and we expect any new consultants or team members to be able to leverage those tools to ensure accuracy and efficacy.\n— Blair Thomas, EMerchantBroker\nSee also: Top 11 digital advertising strategies you should use for mobile\n13. Listening skills\n\nAs a digital marketer, our ability to promote our services through words, images, video and social media are essential. Digital marketing also provides an opportunity for its specialists to listen to various groups of people, from clients to consumers, in new ways. Through social media and analytical tools, we can listen to our consumers' thoughts on a product, relevant issue or our own services. When I hire a digital marketer, I'll see if they've sought to listen to consumer and client needs and create a solution from their own observations or insights. \n— Shalyn Dever, Chatter Buzz\n14. Agility\n\nAt least once a month a new platform pushes its way into relevancy, or a major platform adjusts its algorithm. If you're/they're operating on a methodology devised without flexibility, and/or aren't the type of person to be able to react appropriately, you and your business will fall behind the curve and lose ground fast. \n— Mickey Meyer, JASH\n15. Basic design skills\n\nBeing able to communicate a message properly is extremely important. However, digital marketing involves more than just words. A large part of digital marketing is about visual appearance. Anyone who calls themselves a digital marketer should have at least some basic knowledge of HTML, CSS or Photoshop. \n— Dan Sapozhnikov, AdGate Media\nScott GerberScott Gerber is a serial entrepreneur, author (Never Get a 'Real' Job), TV commentator and founder of Young Entrepreneur Council (YEC), an invite-only organization comprised of the world's most promising young entrepreneur...More\n\n\n\nTopics:\nBusiness, career advice, cover letter, digital marketing, job hunt, Jobs, Marketing, Media, resume, Social Media, Work & Play, yec\n\n\n\n\n\n\n  if(window.pageChanged)\n    window.omni({\"channel\":\"business\",\"content_type\":\"article\",\"v_buy\":null,\"v_buy_i\":null,\"h_pub\":655.0,\"h_buy\":null,\"h_pub_buy\":null,\"v_cur\":1.6,\"v_max\":1.6,\"v_cur_i\":1,\"v_max_i\":1,\"events\":\"event51,event61\",\"top_channel\":\"business\",\"content_source_type\":\"Internal\",\"content_source_name\":\"Internal\",\"author_name\":\"Scott Gerber\",\"age\":\"27\",\"pub_day\":8,\"pub_month\":3,\"pub_year\":2016,\"pub_date\":\"03/08/2016\",\"sourced_from\":\"Internal\",\"isPostView\":true,\"post_lead_type\":\"Default\",\"topics\":\"Business,career advice,cover letter,digital marketing,job hunt,Jobs,Marketing,Media,resume,Social Media,Uncategorized,Work &amp; Play,yec\",\"campaign\":null,\"display_mode\":null,\"viral_video_type\":null,\"b_flag\":true});\n    metaData = {\"link\":[[\"canonical\",\"http://mashable.com/2016/03/08/15-skills-digital-marketers/\"],[\"image_src\",\"http://rack.0.mshcdn.com/media/ZgkyMDE2LzAzLzIxL2YxL0RpZ3RhbE1hcmtlLmJiZjI5LmpwZwpwCXRodW1iCTEyMDB4NjI3IwplCWpwZw/58caab29/09e/DigtalMarketing.jpg\"]],\"meta_property\":[[\"og:url\",\"http://mashable.com/2016/03/08/15-skills-digital-marketers/\"],[\"og:title\",\"15 essential skills all digital marketing hires must have\"],[\"og:type\",\"article\"],[\"og:site_name\",\"Mashable\"],[\"og:description\",\"Your prospective employer expects you to know quite a bit as a digital marketer, so we've gathered 15 experts to tell you what they look for in a new hire.\"],[\"og:image\",\"http://rack.0.mshcdn.com/media/ZgkyMDE2LzAzLzIxL2YxL0RpZ3RhbE1hcmtlLmJiZjI5LmpwZwpwCXRodW1iCTEyMDB4NjI3IwplCWpwZw/58caab29/09e/DigtalMarketing.jpg\"],[\"og:article:published_time\",\"2016-03-08T12:15:23Z\"],[\"og:article:modified_time\",\"2016-03-21T20:05:06Z\"],[\"og:article:publisher\",\"https://www.facebook.com/mashable\"]],\"meta_name\":[[\"description\",\"Your prospective employer expects you to know quite a bit as a digital marketer, so we've gathered 15 experts to tell you what they look for in a new hire.\"],[\"keywords\",\"social-media, job-hunt, resume, cover-letter, digital-marketing, uncategorized, yec, business, marketing, media\"],[\"twitter:title\",\"15 essential skills all digital marketing hires must have\"],[\"twitter:description\",\"Your prospective employer expects you to know quite a bit as a digital marketer, so we've gathered 15 media experts to tell you what they are looking for in new hires.\"],[\"twitter:image\",\"http://rack.2.mshcdn.com/media/ZgkyMDE2LzAzLzIxL2YxL0RpZ3RhbE1hcmtlLmJiZjI5LmpwZwpwCXRodW1iCTU2MHg3NTAKZQlqcGc/ef5be11d/09e/DigtalMarketing.jpg\"],[\"twitter:site\",\"@mashable\"],[\"twitter:via\",\"mashable\"],[\"twitter:url\",\"http://mashable.com/2016/03/08/15-skills-digital-marketers/\"],[\"twitter:creator\",\"@mashable\"],[\"twitter:card\",\"photo\"],[\"twitter:image:width\",\"560\"],[\"twitter:image:height\",\"750\"],[\"date\",\"2016-03-08 12:15:23 UTC\"],[\"sailthru.author\",\"Scott Gerber\"],[\"sailthru.image.thumb\",\"http://rack.1.mshcdn.com/media/ZgkyMDE2LzAzLzIxL2YxL0RpZ3RhbE1hcmtlLmJiZjI5LmpwZwpwCXRodW1iCTExNXgxMTUjCmUJanBn/b7eb7f95/09e/DigtalMarketing.jpg\"],[\"sailthru.image.full\",\"http://rack.1.mshcdn.com/media/ZgkyMDE2LzAzLzIxL2YxL0RpZ3RhbE1hcmtlLmJiZjI5LmpwZwpwCXRodW1iCTk1MHg1MzQjCmUJanBn/bb6c93c0/09e/DigtalMarketing.jpg\"],[\"sailthru.lead_image\",\"http://rack.3.mshcdn.com/media/ZgkyMDE2LzAzLzIxL2YxL0RpZ3RhbE1hcmtlLmJiZjI5LmpwZwpwCXRodW1iCTYwMHgzMzgjCmUJanBn/a229b3f9/09e/DigtalMarketing.jpg\"],[\"sailthru.secondary_image\",\"http://rack.1.mshcdn.com/media/ZgkyMDE2LzAzLzIxL2YxL0RpZ3RhbE1hcmtlLmJiZjI5LmpwZwpwCXRodW1iCTI4OHgxNjIjCmUJanBn/107c6caa/09e/DigtalMarketing.jpg\"],[\"sailthru.exclude_homepage\",false],[\"sailthru.exclude_uk\",false],[\"sailthru.exclude_australia\",false],[\"sailthru.exclude_india\",false],[\"author\",\"Scott Gerber\"]],\"short_url\":[[\"short_url\",\"http://on.mash.to/21hRMQD\"]]};\n\n\n\n\n\n\n\n\nLoad Comments\n\n\n\n\n\n\n\nWhat's Hot\n\n\n\n\n\nMore in Business\n\n\n\n\n\nWhat's New\n\n\nWhat's Rising\n\n\nWhat's Hot\n\n\n\n\n\nWhat's New\nWhat's Rising\nWhat's Hot\n\n\n\n\n  (function(){\n    loadScriptAsync(\"//platform.twitter.com/oct.js\", \"twitteroct\")\n    var timer;\n    timer = every(500, function() {\n      if ((typeof twttr !== \"undefined\" && twttr !== null) && (twttr.conversion != null)) {\n        clearInterval(timer);\n        return twttr.conversion.trackPid('l4o6d');\n      }\n    });\n  }());\n\n\n\n\n\n\n\n\n  if(window.initPage) { window.initPage() }\n  else { $(function() { window.initPage(); })}\n\n\nAbout UsJobsAdvertiseSubscribePrivacyTerms\n\n\n\n\n\n\n\n\n\nMashable\n\nis a global, multi-platform media and entertainment company. Powered by its own proprietary technology, Mashable is the go-to source for tech, digital culture and entertainment content for its dedicated and influential audience around the globe.\n\n\n\n©2005-2016\nMashable, Inc.\n\n\nReproduction without explicit permission is prohibited. All Rights Reserved.\n\n\nDesigned in collaboration with Code & Theory\n\n\n\n\n\n\n\n\n\n  window.detectStaffEditableLink();\n\n\n\n",
         "15 essential skills all digital marketing hires must have",
         null,
         null,
         null,
         null,
         "0"
        ],
        [
         "4",
         "Josh Dickey",
         "http://mashable.com/people/joshdickey/",
         "1600",
         "LOS ANGELES — For big, fun, populist popcorn movies, 2015 was a grand fireworks show with a blowout finale. For quiet adult dramas and prestige films, it started with a pop … and ended in a fizzle.\nThat’s why I struggled mightily to fill out a Top 10 for 2015, the biggest year ever at the North American box office. It’s also why this list is overwhelmed with blockbusters and populist hits.\nSEE ALSO: Diversity report card: The film industry took 1 step forward, 2 steps back\nAnd none packed more firepower than Star Wars: The Force Awakens, Mashable’s No. 1 movie of the year. Using a “best-in-show” mentality — that the biggest prize goes to the most fulfilling representation of its breed — there really is no contest in the Year of the Blockbuster.\nAs for the rest, well … I asked Mashable’s fellow film buffs to help weigh in, because frankly, though I saw more movies this year than any other, I couldn’t come up with 10 films from 2015 that I loved enough to grant year-end-best honors.\nThere were many titles that walked up to the line: The Revenant, Carol, Anomalisa, Creed and Ex Machina were all on the bubble, and I’d hoped my colleagues' enthusiasm might push them over the line. It didn’t. (They did, however, rescue The Martian and The Big Short, films I liked very much but didn’t love-love.)\nI’m not declaring 2015 a bad year for movies (I did that last year, and stand by it). It was just a lopsided one, a year in which the truly best films were also the biggest. Without a single major indie or “prestige” breakout at the box office, audiences clearly agreed.\nAll of that in mind, here's Mashable’s Top 10 for 2015:\nNo. 1: Star Wars: The Force Awakens\n\nDeeply, deeply conflicted about this movie, I am. \nIt's a remix of Star Wars: A New Hope, right down to its ships and vehicles, which puzzlingly have not evolved since their 1977 models. Neither have the costumes, the hairstyles, the weaponry, the MacGuffins, the major plot points or the presence of that one portly X-Wing pilot.\nDisney and Lucasfilm basically recreated your old bedroom for you but put some awesome new toys in it, and the strategy could not have been more effective. For all its glaring faults, The Force Awakens was breathless fun to watch and re-watch, it made us talk and feel and tweet and write endlessly, it will make $1,000,000,000,000,000,000,000 at the box office — and it did so with two unknown actors in lead roles. \nWhat did you think was the best movie of 2015? If your answer was anything but Star Wars: The Force Awakens, try again. What other movie surrounds us, binds us, and brings us together? Said my colleague Adam Rosenberg: \"I saw someone say the tacit social media ban on Star Wars spoilers is the closest we got to world peace in 2015. They're not wrong.\"\nNo. 2: Spotlight\n\nThe biggest exception to the \"Year of Blockbusters\" is Spotlight, the presumptive front-runner for the Best Picture Oscar, and for good reason. \nNothing at all fancy here: Just a handful of our best actors digging into a great script. Lean, focused and exciting, this portrait of the Boston Globe's Pulitzer Prize-winning stories exposing systematic sexual abuse in the Catholic Church played more like a heist thriller. \nAnd it isn't just a Thing Journalists Like. Said my colleague Megan Hess: \"Beyond giving media folks a more modern movie reference than All The President's Men, this film showed the power of questioning things around you — which is, frankly, something we should all be doing more of.\"\nSEE ALSO: 'Spotlight' movie review: A thrilling dive into masterful journalism\nNo. 3: Inside Out\n\nIn terms of developing \"emotional intelligence,\" Inside Out was better than a year's worth of therapy sessions. \nPete Docter's vision of making emotions into characters was too daring, too out-there to be this clear in its purpose. And the payoff — that all the emotions are valuable, even the unpleasant ones — actually changed my life in a meaningful way. On some deep, resonant level, this was my No. 1 movie of 2015, and certainly one of my all-time favorites, period.\nSEE ALSO: 'Inside Out' review: You will walk out of the theater knowing yourself better \nNo. 4: Mad Max: Fury Road\n\nThe consensus No. 1 among critics and movie bloggers deserves its place there; in terms of pure auteurism, George Miller hits the gas and runs away with 2015's most compelling theater-going experience, period. \nThis budget-busting, deeply \"troubled\" retread of an aging franchise should have been a disaster. It wasn't. Instead, we got the freshest-looking hero/heroine flick of the decade. \nBumped down a few spots on my list for its thin \"drive away, drive back\" storyline, but that's not a knock. Said my colleague Kate Sommers-Dawes: \"That was a totally unexpected, shiny-and-chrome thrill. I laughed, I cried, I rejoiced at the feminist utopia suggested by the last scene. Also probably a preview of a Donald Trump presidency so ... start your water hoarding now.\"\nSEE ALSO: 'Mad Max: Fury Road' Review: Drive like hell to see this Maxterpiece\nNo. 5: Straight Outta Compton\n\nF. Gary Gray's film about the rise of N.W.A. was sharp, propulsive, brisk and brash — so much so that to hang \"biopic\" on this one seems ... off. \nStandout performances from O'Shea Jackson Jr., Jason Mitchell and Corey Hawkins earned this one a Screen Actors Guild nomination for ensemble, and it's criminal that none of these guys seems to be seriously contending for an Oscar. And at  $161 million in North America, audiences also thought that shit was doooooope.\nSEE ALSO: 'Straight Outta Compton' review: Hip-hop nostalgia goes Hollywood\nNo. 6: The Martian\n\nEverybody loves The Martian. I thought it was good, clean, forgettable fun — nothing about its themes stirred me — but it's more or less a unanimous choice among my colleagues and peers. So here it is.\nSEE ALSO: 'The Martian' review: Matt Damon, and the movie, are stellar\nNo. 7: Ant-Man\n\nMarvel showed another, funnier side with Ant-Man, establishing a new comic-relief character — and probably just in time, as a palate cleanser to the cool but often wearisome Avengers: Age of Ultron. Ant-Man works as a piece of the greater Marvel Cinematic Universe, but also makes for a fun, silly one-off, to the tune of half-a-billion dollars worldwide. \nSEE ALSO: 'Ant-Man' review: Earth's tiniest hero is also Marvel's funniest movie\nNo. 8: The Big Short\n\nAnother one voted in by my colleagues. I thoroughly enjoyed The Big Short and certainly learned something from it, but its ensemble of middle-aged white dudes, explanatory hurdles and hinky edits didn't scream \"Top 10\" to me. But definitely worth your time — and should have a second life in high-school economics classes as an annual watch when the teacher is out sick.\nSEE ALSO: 'The Big Short' review: The crippling housing crash never looked so ... funny\nNo. 9: Dope\n\nI loved this movie, despite it being about 30 minutes too long. Some called it \"John Hughes in the Hood,\" and I'm buying that distillation — the characters felt real, their predicaments felt real, the story felt real, and yet everything was utterly absurd and over the top. With clever nods to popular culture across at least three decades and a deeply satisfying payoff, Dope would've charted a lot higher in my personal Top 10.\nSEE ALSO: 'Dope' just blew up Sundance\nNo. 10: While We’re Young\n\nThe tension between Gen X and Millennials is real, it's widespread, and it's never been more accurately or hilariously depicted than in Noah Baumbach's While We're Young. I like Baumbach — he's quietly becoming our Woody Allen/Mike Nichols — but I was caught completely off-guard by how much I loved While We're Young, which skewers both generations pointedly but without bitterness. \nEveryone else loved these films — they just didn’t make the cut for me\nCarol: Strong contender for just about every Oscar there is, and deservedly so; it just left me slightly cold. Really nothing to criticize, except maybe the gratuitous puking scene.\nThe Revenant: Gorgeous, made with incredible skill, but only enjoyable as a one-off cinematic experience. I enjoyed every minute, and have no desire — nay, no need whatsoever — to ever see this again.\nAnomalisa: Charlie Kaufman's animated movie is a mini-marvel. The puppets are, in some ways, more human than humans; the interior of the hotel looks more like a hotel than a real-life hotel. The whole thing has something very striking to say about the frailty of human desire. This should probably be in the Top 10.\nEx Machina: A near-masterpiece that was undone by its jarring, oblique ending.\nCreed: We can all agree that Ryan Coogler is one of the best young directors in Hollywood and Creed was a bona fide hit, both critically and commercially. But boxing hasn't looked this cartoonish since ... well, the original Rocky films. There are at least 25 hits in this movie that would end any given match in real-life. I just can't let that pass.\nHateful Eight: Quentin Tarantino's apparent homage to John Carpenter's The Thing could've been the greatest 90 minutes in 2015. Instead, the distraction of road-show bells and whistles (70mm projection, overture, intermission), a few overly hammy performances and at least a full hour of fat made this one a slog to sit through.\nRoom: Easily my least favorite film of 2015. Exploitative, manipulative, cloying, suffocating. I nearly left the theater 20 minutes in, and now I wish I had. The confinement section was a dreary hell; the \"escape\" scene was clumsy and sloppily executed; the life-after-escape was draggy and hopeless. \nNot nearly as bad as advertised\nJupiter Ascending: The Wachowskis' gorgeous visuals and a unique take on our place in the galaxy were undermined by a few things, not the least of which is bad casting: Mila Kunis is a star, she's just not an intergalactic queen. And Channing Tatum's doggyness was plain silly.\nEntourage: Movie based on TV show turns out like that TV show, everyone gets mad? That makes no sense to me, and I'm no Entourage fan, but there was nothing worse about this movie than its source material.\nVacation: This movie made me laugh out loud at least 20 times, and the Tartan Prancer is my favorite comedic character of the year. \nBy the Sea: Angelina Jolie's attempt at an arthouse film is gorgeous and weird. Angelina Jolie is gorgeous and weird. That's just math.\nDefinitely as bad as advertised\nTomorrowland: Ugh.Terminator: Genisys: Ugh.Pixels: UGH.Fantastic Four: Oof.American Ultra: Seriously.\nSo bad that it gets its own category\nPan: \"So resoundingly awful that you have to see it.\"\n*Disclosure: I have yet to see these films, which fell on many critics' Top 10 lists: Brooklyn, Diary of a Teenage Girl, Me and Earl and the Dying Girl, Sicario, Trumbo, Joy.\nHave something to say about this story? Share it in the comments.\n\n\n\nTopics:\nEntertainment, Movies, movie reviews, Star Wars\n\n\n\n\n\n\n  if(window.pageChanged)\n    window.omni({\"channel\":\"entertainment\",\"content_type\":\"article\",\"v_buy\":null,\"v_buy_i\":null,\"h_pub\":2297.0,\"h_buy\":null,\"h_pub_buy\":null,\"v_cur\":0.1,\"v_max\":0.3,\"v_cur_i\":0,\"v_max_i\":0,\"events\":\"event51,event61\",\"top_channel\":\"entertainment\",\"content_source_type\":\"Internal\",\"content_source_name\":\"Internal\",\"author_name\":\"Josh Dickey\",\"age\":\"95\",\"pub_day\":1,\"pub_month\":1,\"pub_year\":2016,\"pub_date\":\"01/01/2016\",\"sourced_from\":\"Internal\",\"isPostView\":true,\"post_lead_type\":\"Default\",\"topics\":\"Entertainment,Movies,movie reviews,Star Wars,Uncategorized\",\"campaign\":null,\"display_mode\":null,\"viral_video_type\":null,\"b_flag\":true});\n    metaData = {\"link\":[[\"canonical\",\"http://mashable.com/2015/12/31/top-ten-movies-2015/\"],[\"image_src\",\"http://rack.3.mshcdn.com/media/ZgkyMDE2LzAxLzAxL2ZjL2V5LjIyNWU1LmpwZwpwCXRodW1iCTEyMDB4NjI3IwplCWpwZw/58c3a63f/a37/ey.jpg\"]],\"meta_property\":[[\"og:url\",\"http://mashable.com/2015/12/31/top-ten-movies-2015/\"],[\"og:title\",\"Mashable top 10: 'The Force Awakens' is the best movie of 2015\"],[\"og:type\",\"article\"],[\"og:site_name\",\"Mashable\"],[\"og:description\",\"For big, fun, populist popcorn movies, 2015 was a grand fireworks show with a blowout finale. For quiet adult dramas and prestige films, it fizzled.\"],[\"og:image\",\"http://rack.3.mshcdn.com/media/ZgkyMDE2LzAxLzAxL2ZjL2V5LjIyNWU1LmpwZwpwCXRodW1iCTEyMDB4NjI3IwplCWpwZw/58c3a63f/a37/ey.jpg\"],[\"og:article:published_time\",\"2016-01-01T00:10:04Z\"],[\"og:article:modified_time\",\"2016-01-01T00:45:34Z\"],[\"og:article:publisher\",\"https://www.facebook.com/mashable\"]],\"meta_name\":[[\"description\",\"For big, fun, populist popcorn movies, 2015 was a grand fireworks show with a blowout finale. For quiet adult dramas and prestige films, it fizzled.\"],[\"keywords\",\"movies, movie-reviews, star-wars, uncategorized, entertainment, film, star-wars-the-force-awakens\"],[\"twitter:title\",\"'Star Wars: The Force Awakens' is the best movie of 2015: Our Top 10\"],[\"twitter:description\",\"For big, fun, populist popcorn movies, 2015 was a grand fireworks show with a blowout finale. For quiet adult dramas and prestige films, it fizzled.\"],[\"twitter:image\",\"http://rack.0.mshcdn.com/media/ZgkyMDE2LzAxLzAxL2ZjL2V5LjIyNWU1LmpwZwpwCXRodW1iCTU2MHg3NTAKZQlqcGc/16c3207f/a37/ey.jpg\"],[\"twitter:site\",\"@mashable\"],[\"twitter:via\",\"mashable\"],[\"twitter:url\",\"http://mashable.com/2015/12/31/top-ten-movies-2015/\"],[\"twitter:creator\",\"@mashable\"],[\"twitter:card\",\"photo\"],[\"twitter:image:width\",\"560\"],[\"twitter:image:height\",\"750\"],[\"date\",\"2016-01-01 00:10:04 UTC\"],[\"sailthru.author\",\"Josh Dickey\"],[\"sailthru.image.thumb\",\"http://rack.0.mshcdn.com/media/ZgkyMDE2LzAxLzAxL2ZjL2V5LjIyNWU1LmpwZwpwCXRodW1iCTExNXgxMTUjCmUJanBn/dab97659/a37/ey.jpg\"],[\"sailthru.image.full\",\"http://rack.3.mshcdn.com/media/ZgkyMDE2LzAxLzAxL2ZjL2V5LjIyNWU1LmpwZwpwCXRodW1iCTk1MHg1MzQjCmUJanBn/08dc8eaf/a37/ey.jpg\"],[\"sailthru.lead_image\",\"http://rack.1.mshcdn.com/media/ZgkyMDE2LzAxLzAxL2ZjL2V5LjIyNWU1LmpwZwpwCXRodW1iCTYwMHgzMzgjCmUJanBn/04ca6a27/a37/ey.jpg\"],[\"sailthru.secondary_image\",\"http://rack.0.mshcdn.com/media/ZgkyMDE2LzAxLzAxL2ZjL2V5LjIyNWU1LmpwZwpwCXRodW1iCTI4OHgxNjIjCmUJanBn/e40c3bc6/a37/ey.jpg\"],[\"sailthru.exclude_homepage\",false],[\"sailthru.exclude_uk\",false],[\"sailthru.exclude_australia\",false],[\"sailthru.exclude_india\",false],[\"author\",\"Josh Dickey\"]],\"short_url\":[[\"short_url\",\"http://on.mash.to/1TsCQML\"]]};\n\n\n\n\n\n\n\n\nLoad Comments\n\n\n\n\n\n\n\nWhat's Hot\n\n\n\n\n\nMore in Entertainment\n\n\n\n\n\nWhat's New\n\n\nWhat's Rising\n\n\nWhat's Hot\n\n\n\n\n\nWhat's New\nWhat's Rising\nWhat's Hot\n\n\n\n\n  (function(){\n    loadScriptAsync(\"//platform.twitter.com/oct.js\", \"twitteroct\")\n    var timer;\n    timer = every(500, function() {\n      if ((typeof twttr !== \"undefined\" && twttr !== null) && (twttr.conversion != null)) {\n        clearInterval(timer);\n        return twttr.conversion.trackPid('l4o6d');\n      }\n    });\n  }());\n\n\n\n\n\n\n\n\n  if(window.initPage) { window.initPage() }\n  else { $(function() { window.initPage(); })}\n\n\nAbout UsJobsAdvertiseSubscribePrivacyTerms\n\n\n\n\n\n\n\n\n\nMashable\n\nis a global, multi-platform media and entertainment company. Powered by its own proprietary technology, Mashable is the go-to source for tech, digital culture and entertainment content for its dedicated and influential audience around the globe.\n\n\n\n©2005-2016\nMashable, Inc.\n\n\nReproduction without explicit permission is prohibited. All Rights Reserved.\n\n\nDesigned in collaboration with Code & Theory\n\n\n\n\n\n\n\n\n\n  window.detectStaffEditableLink();\n\n\n\n",
         "Mashable top 10: 'The Force Awakens' is the best movie of 2015",
         null,
         "https://plus.google.com/109213469090692520544?rel=author",
         null,
         "https://twitter.com/JLDlite",
         "11200"
        ]
       ],
       "shape": {
        "columns": 10,
        "rows": 5
       }
      },
      "text/html": [
       "<div>\n",
       "<style scoped>\n",
       "    .dataframe tbody tr th:only-of-type {\n",
       "        vertical-align: middle;\n",
       "    }\n",
       "\n",
       "    .dataframe tbody tr th {\n",
       "        vertical-align: top;\n",
       "    }\n",
       "\n",
       "    .dataframe thead th {\n",
       "        text-align: right;\n",
       "    }\n",
       "</style>\n",
       "<table border=\"1\" class=\"dataframe\">\n",
       "  <thead>\n",
       "    <tr style=\"text-align: right;\">\n",
       "      <th></th>\n",
       "      <th>author</th>\n",
       "      <th>author_web</th>\n",
       "      <th>shares</th>\n",
       "      <th>text</th>\n",
       "      <th>title</th>\n",
       "      <th>facebo</th>\n",
       "      <th>google</th>\n",
       "      <th>linked</th>\n",
       "      <th>twitte</th>\n",
       "      <th>twitter_followers</th>\n",
       "    </tr>\n",
       "  </thead>\n",
       "  <tbody>\n",
       "    <tr>\n",
       "      <th>0</th>\n",
       "      <td>Seth Fiegerman</td>\n",
       "      <td>http://mashable.com/people/seth-fiegerman/</td>\n",
       "      <td>4900</td>\n",
       "      <td>\\nApple's long and controversial ebook case ha...</td>\n",
       "      <td>The Supreme Court smacked down Apple today</td>\n",
       "      <td>http://www.facebook.com/sfiegerman</td>\n",
       "      <td>NaN</td>\n",
       "      <td>http://www.linkedin.com/in/sfiegerman</td>\n",
       "      <td>https://twitter.com/sfiegerman</td>\n",
       "      <td>14300</td>\n",
       "    </tr>\n",
       "    <tr>\n",
       "      <th>1</th>\n",
       "      <td>Rebecca Ruiz</td>\n",
       "      <td>http://mashable.com/people/rebecca-ruiz/</td>\n",
       "      <td>1900</td>\n",
       "      <td>Analysis\\n\\n\\n\\n\\n\\nThere is a reason that Don...</td>\n",
       "      <td>Every woman has met a man like Donald Trump</td>\n",
       "      <td>NaN</td>\n",
       "      <td>NaN</td>\n",
       "      <td>NaN</td>\n",
       "      <td>https://twitter.com/rebecca_ruiz</td>\n",
       "      <td>3738</td>\n",
       "    </tr>\n",
       "    <tr>\n",
       "      <th>2</th>\n",
       "      <td>Davina Merchant</td>\n",
       "      <td>http://mashable.com/people/568bdab351984019310...</td>\n",
       "      <td>7000</td>\n",
       "      <td>LONDON - Last month we reported on a dog-sized...</td>\n",
       "      <td>Adorable dog-sized rabbit finally finds his fo...</td>\n",
       "      <td>NaN</td>\n",
       "      <td>https://plus.google.com/105525238342980116477?...</td>\n",
       "      <td>NaN</td>\n",
       "      <td>NaN</td>\n",
       "      <td>0</td>\n",
       "    </tr>\n",
       "    <tr>\n",
       "      <th>3</th>\n",
       "      <td>Scott Gerber</td>\n",
       "      <td>[]</td>\n",
       "      <td>5000</td>\n",
       "      <td>Today's digital marketing experts must have a ...</td>\n",
       "      <td>15 essential skills all digital marketing hire...</td>\n",
       "      <td>NaN</td>\n",
       "      <td>NaN</td>\n",
       "      <td>NaN</td>\n",
       "      <td>NaN</td>\n",
       "      <td>0</td>\n",
       "    </tr>\n",
       "    <tr>\n",
       "      <th>4</th>\n",
       "      <td>Josh Dickey</td>\n",
       "      <td>http://mashable.com/people/joshdickey/</td>\n",
       "      <td>1600</td>\n",
       "      <td>LOS ANGELES — For big, fun, populist popcorn m...</td>\n",
       "      <td>Mashable top 10: 'The Force Awakens' is the be...</td>\n",
       "      <td>NaN</td>\n",
       "      <td>https://plus.google.com/109213469090692520544?...</td>\n",
       "      <td>NaN</td>\n",
       "      <td>https://twitter.com/JLDlite</td>\n",
       "      <td>11200</td>\n",
       "    </tr>\n",
       "  </tbody>\n",
       "</table>\n",
       "</div>"
      ],
      "text/plain": [
       "            author                                         author_web  shares  \\\n",
       "0   Seth Fiegerman         http://mashable.com/people/seth-fiegerman/    4900   \n",
       "1     Rebecca Ruiz           http://mashable.com/people/rebecca-ruiz/    1900   \n",
       "2  Davina Merchant  http://mashable.com/people/568bdab351984019310...    7000   \n",
       "3     Scott Gerber                                                 []    5000   \n",
       "4      Josh Dickey             http://mashable.com/people/joshdickey/    1600   \n",
       "\n",
       "                                                text  \\\n",
       "0  \\nApple's long and controversial ebook case ha...   \n",
       "1  Analysis\\n\\n\\n\\n\\n\\nThere is a reason that Don...   \n",
       "2  LONDON - Last month we reported on a dog-sized...   \n",
       "3  Today's digital marketing experts must have a ...   \n",
       "4  LOS ANGELES — For big, fun, populist popcorn m...   \n",
       "\n",
       "                                               title  \\\n",
       "0         The Supreme Court smacked down Apple today   \n",
       "1        Every woman has met a man like Donald Trump   \n",
       "2  Adorable dog-sized rabbit finally finds his fo...   \n",
       "3  15 essential skills all digital marketing hire...   \n",
       "4  Mashable top 10: 'The Force Awakens' is the be...   \n",
       "\n",
       "                               facebo  \\\n",
       "0  http://www.facebook.com/sfiegerman   \n",
       "1                                 NaN   \n",
       "2                                 NaN   \n",
       "3                                 NaN   \n",
       "4                                 NaN   \n",
       "\n",
       "                                              google  \\\n",
       "0                                                NaN   \n",
       "1                                                NaN   \n",
       "2  https://plus.google.com/105525238342980116477?...   \n",
       "3                                                NaN   \n",
       "4  https://plus.google.com/109213469090692520544?...   \n",
       "\n",
       "                                  linked                            twitte  \\\n",
       "0  http://www.linkedin.com/in/sfiegerman    https://twitter.com/sfiegerman   \n",
       "1                                    NaN  https://twitter.com/rebecca_ruiz   \n",
       "2                                    NaN                               NaN   \n",
       "3                                    NaN                               NaN   \n",
       "4                                    NaN       https://twitter.com/JLDlite   \n",
       "\n",
       "   twitter_followers  \n",
       "0              14300  \n",
       "1               3738  \n",
       "2                  0  \n",
       "3                  0  \n",
       "4              11200  "
      ]
     },
     "execution_count": 28,
     "metadata": {},
     "output_type": "execute_result"
    }
   ],
   "source": [
    "# Carga de datos de archivos .csv\n",
    "df = pd.read_csv('https://raw.githubusercontent.com/albahnsen/MIAD_ML_and_NLP/main/datasets/mashable_texts.csv', index_col=0)\n",
    "df.head()"
   ]
  },
  {
   "cell_type": "code",
   "execution_count": 29,
   "metadata": {
    "colab": {
     "base_uri": "https://localhost:8080/",
     "height": 335
    },
    "id": "pFWcCX6y7dSF",
    "outputId": "970b14d8-1877-4a23-be38-22e45ed96f14"
   },
   "outputs": [
    {
     "data": {
      "text/plain": [
       "count       82.000000\n",
       "mean      3090.487805\n",
       "std       8782.031594\n",
       "min        437.000000\n",
       "25%        893.500000\n",
       "50%       1200.000000\n",
       "75%       2275.000000\n",
       "max      63100.000000\n",
       "Name: shares, dtype: float64"
      ]
     },
     "execution_count": 29,
     "metadata": {},
     "output_type": "execute_result"
    }
   ],
   "source": [
    "# Separación de variable de interés (y)\n",
    "y = df.shares\n",
    "y.describe()"
   ]
  },
  {
   "cell_type": "code",
   "execution_count": 30,
   "metadata": {
    "colab": {
     "base_uri": "https://localhost:8080/",
     "height": 241
    },
    "id": "LbaXuS-b7dSF",
    "outputId": "2eed83e9-4826-4e72-c562-754de36f4baf"
   },
   "outputs": [
    {
     "data": {
      "text/plain": [
       "shares\n",
       "1    22\n",
       "0    21\n",
       "3    21\n",
       "2    18\n",
       "Name: count, dtype: int64"
      ]
     },
     "execution_count": 30,
     "metadata": {},
     "output_type": "execute_result"
    }
   ],
   "source": [
    "# Categoización de la variable de interés (y)\n",
    "y = pd.cut(y, [0, 893, 1200, 2275, 63200], labels=[0, 1, 2, 3])\n",
    "y.value_counts()"
   ]
  },
  {
   "cell_type": "code",
   "execution_count": 31,
   "metadata": {
    "id": "TklVl1Yw7dSG"
   },
   "outputs": [],
   "source": [
    "# Definición de variable de interés en el dataframe\n",
    "df['y'] = y"
   ]
  },
  {
   "cell_type": "code",
   "execution_count": 32,
   "metadata": {
    "id": "QUGjbgzN7dSG"
   },
   "outputs": [],
   "source": [
    "# Definición de variables predictoras\n",
    "X = df.text"
   ]
  },
  {
   "cell_type": "code",
   "execution_count": 33,
   "metadata": {
    "id": "P6PkyzWY7dSG"
   },
   "outputs": [],
   "source": [
    "# Definición de función que recibe un texto vectorizado y calcula el acurracy de un modelo Naive Bayes\n",
    "def tokenize_test(vect):\n",
    "    X_dtm = vect.fit_transform(X)\n",
    "    print('Features: ', X_dtm.shape[1])\n",
    "    nb = MultinomialNB()\n",
    "    print(pd.Series(cross_val_score(nb, X_dtm, y, cv=10)).describe())"
   ]
  },
  {
   "cell_type": "markdown",
   "metadata": {
    "id": "5UzL9R7q7dSG"
   },
   "source": [
    "### Eliminación de stopwords"
   ]
  },
  {
   "cell_type": "code",
   "execution_count": 34,
   "metadata": {
    "id": "Wlv2Pib67dSH"
   },
   "outputs": [],
   "source": [
    "# Eliminación de stopwords al usar el parámetro 'stop_words' de la función CountVectorizer()\n",
    "vect_no_stopw = CountVectorizer(stop_words='english')"
   ]
  },
  {
   "cell_type": "code",
   "execution_count": 35,
   "metadata": {
    "colab": {
     "base_uri": "https://localhost:8080/"
    },
    "id": "dtjnCfyL7dSH",
    "outputId": "ec02418b-a11e-4bdb-c32e-b9c0c4699f10"
   },
   "outputs": [
    {
     "name": "stdout",
     "output_type": "stream",
     "text": [
      "frozenset({'on', 'whereby', 'thick', 'amongst', 'itself', 'since', 'an', 'how', 'cannot', 'is', 'where', 'move', 'cry', 'hers', 'rather', 'although', 'please', 'whom', 'hereafter', 'already', 'serious', 'few', 'least', 'them', 'fifteen', 'his', 'whoever', 'both', 'whence', 'all', 'much', 'anyway', 'thereupon', 'back', 'everything', 'it', 'their', 'ie', 'nowhere', 'fire', 'anything', 'there', 'your', 'describe', 'i', 'nevertheless', 'now', 'however', 'only', 'that', 'by', 'one', 'are', 'not', 'among', 'onto', 'she', 'made', 'couldnt', 'am', 'thereby', 'what', 'too', 'became', 'hence', 'without', 'those', 'who', 'beside', 'another', 'put', 'per', 'anywhere', 'anyhow', 'were', 'four', 'about', 'each', 'above', 'may', 'almost', 'he', 'as', 'sixty', 'most', 'others', 'none', 'we', 'along', 'show', 'thereafter', 'out', 'yourself', 'beyond', 'anyone', 'bill', 'everyone', 'less', 'become', 'find', 'do', 'someone', 'been', 'ours', 'while', 'her', 'very', 'down', 'have', 'sincere', 'first', 'detail', 'latterly', 'for', 'via', 'front', 'call', 'every', 'ten', 'sometimes', 'was', 'side', 'except', 'had', 'through', 'beforehand', 'third', 'something', 'due', 'be', 'because', 'over', 'our', 'after', 'at', 'will', 'take', 'below', 'then', 'nor', 'also', 'fifty', 'de', 'during', 'eleven', 'therein', 'interest', 'between', 'thin', 'otherwise', 'throughout', 'if', 'formerly', 'any', 'before', 'co', 'in', 'yours', 'next', 'again', 'ltd', 'with', 'this', 'they', 'whose', 'cant', 'thru', 'system', 'of', 'once', 'from', 'than', 'eg', 'enough', 'either', 'myself', 'must', 'seeming', 'nothing', 'becomes', 'whenever', 'many', 'such', 'further', 'seem', 'which', 'un', 'bottom', 'twelve', 'whereas', 'becoming', 'go', 'behind', 'etc', 'himself', 'five', 'somewhere', 'mostly', 'though', 'three', 'when', 'same', 'whatever', 'afterwards', 'no', 'you', 'sometime', 'whereafter', 'never', 'eight', 'toward', 'whereupon', 'other', 'neither', 'towards', 'thence', 'seemed', 'latter', 'meanwhile', 'themselves', 'therefore', 'indeed', 'thus', 'across', 'mine', 'two', 'perhaps', 'elsewhere', 'well', 'besides', 'under', 'con', 'whether', 'moreover', 'amount', 'being', 'part', 'own', 'the', 'former', 'hereby', 'or', 'fill', 'ever', 'these', 'yourselves', 'empty', 'him', 'more', 'even', 'else', 'might', 'its', 'wherein', 'should', 'some', 'top', 'but', 'mill', 'to', 'against', 'six', 'us', 'nobody', 'always', 'found', 'me', 'into', 'wherever', 'hasnt', 'hereupon', 'has', 'twenty', 'a', 'see', 'together', 'still', 'can', 'why', 'amoungst', 'hundred', 'up', 'often', 'noone', 'last', 'namely', 'off', 'here', 'inc', 'get', 'so', 'several', 'alone', 'my', 'whither', 're', 'forty', 'would', 'full', 'could', 'done', 'until', 'seems', 'nine', 'somehow', 'and', 'around', 'give', 'ourselves', 'keep', 'herein', 'everywhere', 'herself', 'name', 'yet', 'within', 'whole', 'upon'})\n"
     ]
    }
   ],
   "source": [
    "# Impresión de stopwords del texto\n",
    "print(vect_no_stopw.get_stop_words())"
   ]
  },
  {
   "cell_type": "code",
   "execution_count": 36,
   "metadata": {
    "colab": {
     "base_uri": "https://localhost:8080/"
    },
    "id": "9Kc7b-V47dSH",
    "outputId": "ed5fe871-2c03-4639-b1be-2940971b517b"
   },
   "outputs": [
    {
     "name": "stdout",
     "output_type": "stream",
     "text": [
      "Features:  7710\n",
      "count    10.000000\n",
      "mean      0.331944\n",
      "std       0.146614\n",
      "min       0.111111\n",
      "25%       0.250000\n",
      "50%       0.354167\n",
      "75%       0.468750\n",
      "max       0.500000\n",
      "dtype: float64\n"
     ]
    }
   ],
   "source": [
    "# Desempeño del modelo sin considerar stopwords\n",
    "tokenize_test(vect_no_stopw)"
   ]
  },
  {
   "cell_type": "markdown",
   "metadata": {
    "id": "zni17fJB7dSU"
   },
   "source": [
    "### Stemming\n",
    "\n",
    "Stemming es un preprocesamiento del texto en el que para cada palabra se obtiene su raíz o en inglés stem."
   ]
  },
  {
   "cell_type": "code",
   "execution_count": 37,
   "metadata": {
    "id": "nngPh_857dSU"
   },
   "outputs": [],
   "source": [
    "# Inicialización de stemmer\n",
    "stemmer = SnowballStemmer('english')"
   ]
  },
  {
   "cell_type": "code",
   "execution_count": 38,
   "metadata": {
    "colab": {
     "base_uri": "https://localhost:8080/",
     "height": 80
    },
    "id": "mnjAO8Rh7dSU",
    "outputId": "982f4214-f81a-435b-8c05-94c6420b9643"
   },
   "outputs": [
    {
     "data": {
      "text/html": [
       "<style>#sk-container-id-1 {\n",
       "  /* Definition of color scheme common for light and dark mode */\n",
       "  --sklearn-color-text: #000;\n",
       "  --sklearn-color-text-muted: #666;\n",
       "  --sklearn-color-line: gray;\n",
       "  /* Definition of color scheme for unfitted estimators */\n",
       "  --sklearn-color-unfitted-level-0: #fff5e6;\n",
       "  --sklearn-color-unfitted-level-1: #f6e4d2;\n",
       "  --sklearn-color-unfitted-level-2: #ffe0b3;\n",
       "  --sklearn-color-unfitted-level-3: chocolate;\n",
       "  /* Definition of color scheme for fitted estimators */\n",
       "  --sklearn-color-fitted-level-0: #f0f8ff;\n",
       "  --sklearn-color-fitted-level-1: #d4ebff;\n",
       "  --sklearn-color-fitted-level-2: #b3dbfd;\n",
       "  --sklearn-color-fitted-level-3: cornflowerblue;\n",
       "\n",
       "  /* Specific color for light theme */\n",
       "  --sklearn-color-text-on-default-background: var(--sg-text-color, var(--theme-code-foreground, var(--jp-content-font-color1, black)));\n",
       "  --sklearn-color-background: var(--sg-background-color, var(--theme-background, var(--jp-layout-color0, white)));\n",
       "  --sklearn-color-border-box: var(--sg-text-color, var(--theme-code-foreground, var(--jp-content-font-color1, black)));\n",
       "  --sklearn-color-icon: #696969;\n",
       "\n",
       "  @media (prefers-color-scheme: dark) {\n",
       "    /* Redefinition of color scheme for dark theme */\n",
       "    --sklearn-color-text-on-default-background: var(--sg-text-color, var(--theme-code-foreground, var(--jp-content-font-color1, white)));\n",
       "    --sklearn-color-background: var(--sg-background-color, var(--theme-background, var(--jp-layout-color0, #111)));\n",
       "    --sklearn-color-border-box: var(--sg-text-color, var(--theme-code-foreground, var(--jp-content-font-color1, white)));\n",
       "    --sklearn-color-icon: #878787;\n",
       "  }\n",
       "}\n",
       "\n",
       "#sk-container-id-1 {\n",
       "  color: var(--sklearn-color-text);\n",
       "}\n",
       "\n",
       "#sk-container-id-1 pre {\n",
       "  padding: 0;\n",
       "}\n",
       "\n",
       "#sk-container-id-1 input.sk-hidden--visually {\n",
       "  border: 0;\n",
       "  clip: rect(1px 1px 1px 1px);\n",
       "  clip: rect(1px, 1px, 1px, 1px);\n",
       "  height: 1px;\n",
       "  margin: -1px;\n",
       "  overflow: hidden;\n",
       "  padding: 0;\n",
       "  position: absolute;\n",
       "  width: 1px;\n",
       "}\n",
       "\n",
       "#sk-container-id-1 div.sk-dashed-wrapped {\n",
       "  border: 1px dashed var(--sklearn-color-line);\n",
       "  margin: 0 0.4em 0.5em 0.4em;\n",
       "  box-sizing: border-box;\n",
       "  padding-bottom: 0.4em;\n",
       "  background-color: var(--sklearn-color-background);\n",
       "}\n",
       "\n",
       "#sk-container-id-1 div.sk-container {\n",
       "  /* jupyter's `normalize.less` sets `[hidden] { display: none; }`\n",
       "     but bootstrap.min.css set `[hidden] { display: none !important; }`\n",
       "     so we also need the `!important` here to be able to override the\n",
       "     default hidden behavior on the sphinx rendered scikit-learn.org.\n",
       "     See: https://github.com/scikit-learn/scikit-learn/issues/21755 */\n",
       "  display: inline-block !important;\n",
       "  position: relative;\n",
       "}\n",
       "\n",
       "#sk-container-id-1 div.sk-text-repr-fallback {\n",
       "  display: none;\n",
       "}\n",
       "\n",
       "div.sk-parallel-item,\n",
       "div.sk-serial,\n",
       "div.sk-item {\n",
       "  /* draw centered vertical line to link estimators */\n",
       "  background-image: linear-gradient(var(--sklearn-color-text-on-default-background), var(--sklearn-color-text-on-default-background));\n",
       "  background-size: 2px 100%;\n",
       "  background-repeat: no-repeat;\n",
       "  background-position: center center;\n",
       "}\n",
       "\n",
       "/* Parallel-specific style estimator block */\n",
       "\n",
       "#sk-container-id-1 div.sk-parallel-item::after {\n",
       "  content: \"\";\n",
       "  width: 100%;\n",
       "  border-bottom: 2px solid var(--sklearn-color-text-on-default-background);\n",
       "  flex-grow: 1;\n",
       "}\n",
       "\n",
       "#sk-container-id-1 div.sk-parallel {\n",
       "  display: flex;\n",
       "  align-items: stretch;\n",
       "  justify-content: center;\n",
       "  background-color: var(--sklearn-color-background);\n",
       "  position: relative;\n",
       "}\n",
       "\n",
       "#sk-container-id-1 div.sk-parallel-item {\n",
       "  display: flex;\n",
       "  flex-direction: column;\n",
       "}\n",
       "\n",
       "#sk-container-id-1 div.sk-parallel-item:first-child::after {\n",
       "  align-self: flex-end;\n",
       "  width: 50%;\n",
       "}\n",
       "\n",
       "#sk-container-id-1 div.sk-parallel-item:last-child::after {\n",
       "  align-self: flex-start;\n",
       "  width: 50%;\n",
       "}\n",
       "\n",
       "#sk-container-id-1 div.sk-parallel-item:only-child::after {\n",
       "  width: 0;\n",
       "}\n",
       "\n",
       "/* Serial-specific style estimator block */\n",
       "\n",
       "#sk-container-id-1 div.sk-serial {\n",
       "  display: flex;\n",
       "  flex-direction: column;\n",
       "  align-items: center;\n",
       "  background-color: var(--sklearn-color-background);\n",
       "  padding-right: 1em;\n",
       "  padding-left: 1em;\n",
       "}\n",
       "\n",
       "\n",
       "/* Toggleable style: style used for estimator/Pipeline/ColumnTransformer box that is\n",
       "clickable and can be expanded/collapsed.\n",
       "- Pipeline and ColumnTransformer use this feature and define the default style\n",
       "- Estimators will overwrite some part of the style using the `sk-estimator` class\n",
       "*/\n",
       "\n",
       "/* Pipeline and ColumnTransformer style (default) */\n",
       "\n",
       "#sk-container-id-1 div.sk-toggleable {\n",
       "  /* Default theme specific background. It is overwritten whether we have a\n",
       "  specific estimator or a Pipeline/ColumnTransformer */\n",
       "  background-color: var(--sklearn-color-background);\n",
       "}\n",
       "\n",
       "/* Toggleable label */\n",
       "#sk-container-id-1 label.sk-toggleable__label {\n",
       "  cursor: pointer;\n",
       "  display: flex;\n",
       "  width: 100%;\n",
       "  margin-bottom: 0;\n",
       "  padding: 0.5em;\n",
       "  box-sizing: border-box;\n",
       "  text-align: center;\n",
       "  align-items: start;\n",
       "  justify-content: space-between;\n",
       "  gap: 0.5em;\n",
       "}\n",
       "\n",
       "#sk-container-id-1 label.sk-toggleable__label .caption {\n",
       "  font-size: 0.6rem;\n",
       "  font-weight: lighter;\n",
       "  color: var(--sklearn-color-text-muted);\n",
       "}\n",
       "\n",
       "#sk-container-id-1 label.sk-toggleable__label-arrow:before {\n",
       "  /* Arrow on the left of the label */\n",
       "  content: \"▸\";\n",
       "  float: left;\n",
       "  margin-right: 0.25em;\n",
       "  color: var(--sklearn-color-icon);\n",
       "}\n",
       "\n",
       "#sk-container-id-1 label.sk-toggleable__label-arrow:hover:before {\n",
       "  color: var(--sklearn-color-text);\n",
       "}\n",
       "\n",
       "/* Toggleable content - dropdown */\n",
       "\n",
       "#sk-container-id-1 div.sk-toggleable__content {\n",
       "  max-height: 0;\n",
       "  max-width: 0;\n",
       "  overflow: hidden;\n",
       "  text-align: left;\n",
       "  /* unfitted */\n",
       "  background-color: var(--sklearn-color-unfitted-level-0);\n",
       "}\n",
       "\n",
       "#sk-container-id-1 div.sk-toggleable__content.fitted {\n",
       "  /* fitted */\n",
       "  background-color: var(--sklearn-color-fitted-level-0);\n",
       "}\n",
       "\n",
       "#sk-container-id-1 div.sk-toggleable__content pre {\n",
       "  margin: 0.2em;\n",
       "  border-radius: 0.25em;\n",
       "  color: var(--sklearn-color-text);\n",
       "  /* unfitted */\n",
       "  background-color: var(--sklearn-color-unfitted-level-0);\n",
       "}\n",
       "\n",
       "#sk-container-id-1 div.sk-toggleable__content.fitted pre {\n",
       "  /* unfitted */\n",
       "  background-color: var(--sklearn-color-fitted-level-0);\n",
       "}\n",
       "\n",
       "#sk-container-id-1 input.sk-toggleable__control:checked~div.sk-toggleable__content {\n",
       "  /* Expand drop-down */\n",
       "  max-height: 200px;\n",
       "  max-width: 100%;\n",
       "  overflow: auto;\n",
       "}\n",
       "\n",
       "#sk-container-id-1 input.sk-toggleable__control:checked~label.sk-toggleable__label-arrow:before {\n",
       "  content: \"▾\";\n",
       "}\n",
       "\n",
       "/* Pipeline/ColumnTransformer-specific style */\n",
       "\n",
       "#sk-container-id-1 div.sk-label input.sk-toggleable__control:checked~label.sk-toggleable__label {\n",
       "  color: var(--sklearn-color-text);\n",
       "  background-color: var(--sklearn-color-unfitted-level-2);\n",
       "}\n",
       "\n",
       "#sk-container-id-1 div.sk-label.fitted input.sk-toggleable__control:checked~label.sk-toggleable__label {\n",
       "  background-color: var(--sklearn-color-fitted-level-2);\n",
       "}\n",
       "\n",
       "/* Estimator-specific style */\n",
       "\n",
       "/* Colorize estimator box */\n",
       "#sk-container-id-1 div.sk-estimator input.sk-toggleable__control:checked~label.sk-toggleable__label {\n",
       "  /* unfitted */\n",
       "  background-color: var(--sklearn-color-unfitted-level-2);\n",
       "}\n",
       "\n",
       "#sk-container-id-1 div.sk-estimator.fitted input.sk-toggleable__control:checked~label.sk-toggleable__label {\n",
       "  /* fitted */\n",
       "  background-color: var(--sklearn-color-fitted-level-2);\n",
       "}\n",
       "\n",
       "#sk-container-id-1 div.sk-label label.sk-toggleable__label,\n",
       "#sk-container-id-1 div.sk-label label {\n",
       "  /* The background is the default theme color */\n",
       "  color: var(--sklearn-color-text-on-default-background);\n",
       "}\n",
       "\n",
       "/* On hover, darken the color of the background */\n",
       "#sk-container-id-1 div.sk-label:hover label.sk-toggleable__label {\n",
       "  color: var(--sklearn-color-text);\n",
       "  background-color: var(--sklearn-color-unfitted-level-2);\n",
       "}\n",
       "\n",
       "/* Label box, darken color on hover, fitted */\n",
       "#sk-container-id-1 div.sk-label.fitted:hover label.sk-toggleable__label.fitted {\n",
       "  color: var(--sklearn-color-text);\n",
       "  background-color: var(--sklearn-color-fitted-level-2);\n",
       "}\n",
       "\n",
       "/* Estimator label */\n",
       "\n",
       "#sk-container-id-1 div.sk-label label {\n",
       "  font-family: monospace;\n",
       "  font-weight: bold;\n",
       "  display: inline-block;\n",
       "  line-height: 1.2em;\n",
       "}\n",
       "\n",
       "#sk-container-id-1 div.sk-label-container {\n",
       "  text-align: center;\n",
       "}\n",
       "\n",
       "/* Estimator-specific */\n",
       "#sk-container-id-1 div.sk-estimator {\n",
       "  font-family: monospace;\n",
       "  border: 1px dotted var(--sklearn-color-border-box);\n",
       "  border-radius: 0.25em;\n",
       "  box-sizing: border-box;\n",
       "  margin-bottom: 0.5em;\n",
       "  /* unfitted */\n",
       "  background-color: var(--sklearn-color-unfitted-level-0);\n",
       "}\n",
       "\n",
       "#sk-container-id-1 div.sk-estimator.fitted {\n",
       "  /* fitted */\n",
       "  background-color: var(--sklearn-color-fitted-level-0);\n",
       "}\n",
       "\n",
       "/* on hover */\n",
       "#sk-container-id-1 div.sk-estimator:hover {\n",
       "  /* unfitted */\n",
       "  background-color: var(--sklearn-color-unfitted-level-2);\n",
       "}\n",
       "\n",
       "#sk-container-id-1 div.sk-estimator.fitted:hover {\n",
       "  /* fitted */\n",
       "  background-color: var(--sklearn-color-fitted-level-2);\n",
       "}\n",
       "\n",
       "/* Specification for estimator info (e.g. \"i\" and \"?\") */\n",
       "\n",
       "/* Common style for \"i\" and \"?\" */\n",
       "\n",
       ".sk-estimator-doc-link,\n",
       "a:link.sk-estimator-doc-link,\n",
       "a:visited.sk-estimator-doc-link {\n",
       "  float: right;\n",
       "  font-size: smaller;\n",
       "  line-height: 1em;\n",
       "  font-family: monospace;\n",
       "  background-color: var(--sklearn-color-background);\n",
       "  border-radius: 1em;\n",
       "  height: 1em;\n",
       "  width: 1em;\n",
       "  text-decoration: none !important;\n",
       "  margin-left: 0.5em;\n",
       "  text-align: center;\n",
       "  /* unfitted */\n",
       "  border: var(--sklearn-color-unfitted-level-1) 1pt solid;\n",
       "  color: var(--sklearn-color-unfitted-level-1);\n",
       "}\n",
       "\n",
       ".sk-estimator-doc-link.fitted,\n",
       "a:link.sk-estimator-doc-link.fitted,\n",
       "a:visited.sk-estimator-doc-link.fitted {\n",
       "  /* fitted */\n",
       "  border: var(--sklearn-color-fitted-level-1) 1pt solid;\n",
       "  color: var(--sklearn-color-fitted-level-1);\n",
       "}\n",
       "\n",
       "/* On hover */\n",
       "div.sk-estimator:hover .sk-estimator-doc-link:hover,\n",
       ".sk-estimator-doc-link:hover,\n",
       "div.sk-label-container:hover .sk-estimator-doc-link:hover,\n",
       ".sk-estimator-doc-link:hover {\n",
       "  /* unfitted */\n",
       "  background-color: var(--sklearn-color-unfitted-level-3);\n",
       "  color: var(--sklearn-color-background);\n",
       "  text-decoration: none;\n",
       "}\n",
       "\n",
       "div.sk-estimator.fitted:hover .sk-estimator-doc-link.fitted:hover,\n",
       ".sk-estimator-doc-link.fitted:hover,\n",
       "div.sk-label-container:hover .sk-estimator-doc-link.fitted:hover,\n",
       ".sk-estimator-doc-link.fitted:hover {\n",
       "  /* fitted */\n",
       "  background-color: var(--sklearn-color-fitted-level-3);\n",
       "  color: var(--sklearn-color-background);\n",
       "  text-decoration: none;\n",
       "}\n",
       "\n",
       "/* Span, style for the box shown on hovering the info icon */\n",
       ".sk-estimator-doc-link span {\n",
       "  display: none;\n",
       "  z-index: 9999;\n",
       "  position: relative;\n",
       "  font-weight: normal;\n",
       "  right: .2ex;\n",
       "  padding: .5ex;\n",
       "  margin: .5ex;\n",
       "  width: min-content;\n",
       "  min-width: 20ex;\n",
       "  max-width: 50ex;\n",
       "  color: var(--sklearn-color-text);\n",
       "  box-shadow: 2pt 2pt 4pt #999;\n",
       "  /* unfitted */\n",
       "  background: var(--sklearn-color-unfitted-level-0);\n",
       "  border: .5pt solid var(--sklearn-color-unfitted-level-3);\n",
       "}\n",
       "\n",
       ".sk-estimator-doc-link.fitted span {\n",
       "  /* fitted */\n",
       "  background: var(--sklearn-color-fitted-level-0);\n",
       "  border: var(--sklearn-color-fitted-level-3);\n",
       "}\n",
       "\n",
       ".sk-estimator-doc-link:hover span {\n",
       "  display: block;\n",
       "}\n",
       "\n",
       "/* \"?\"-specific style due to the `<a>` HTML tag */\n",
       "\n",
       "#sk-container-id-1 a.estimator_doc_link {\n",
       "  float: right;\n",
       "  font-size: 1rem;\n",
       "  line-height: 1em;\n",
       "  font-family: monospace;\n",
       "  background-color: var(--sklearn-color-background);\n",
       "  border-radius: 1rem;\n",
       "  height: 1rem;\n",
       "  width: 1rem;\n",
       "  text-decoration: none;\n",
       "  /* unfitted */\n",
       "  color: var(--sklearn-color-unfitted-level-1);\n",
       "  border: var(--sklearn-color-unfitted-level-1) 1pt solid;\n",
       "}\n",
       "\n",
       "#sk-container-id-1 a.estimator_doc_link.fitted {\n",
       "  /* fitted */\n",
       "  border: var(--sklearn-color-fitted-level-1) 1pt solid;\n",
       "  color: var(--sklearn-color-fitted-level-1);\n",
       "}\n",
       "\n",
       "/* On hover */\n",
       "#sk-container-id-1 a.estimator_doc_link:hover {\n",
       "  /* unfitted */\n",
       "  background-color: var(--sklearn-color-unfitted-level-3);\n",
       "  color: var(--sklearn-color-background);\n",
       "  text-decoration: none;\n",
       "}\n",
       "\n",
       "#sk-container-id-1 a.estimator_doc_link.fitted:hover {\n",
       "  /* fitted */\n",
       "  background-color: var(--sklearn-color-fitted-level-3);\n",
       "}\n",
       "</style><div id=\"sk-container-id-1\" class=\"sk-top-container\"><div class=\"sk-text-repr-fallback\"><pre>CountVectorizer()</pre><b>In a Jupyter environment, please rerun this cell to show the HTML representation or trust the notebook. <br />On GitHub, the HTML representation is unable to render, please try loading this page with nbviewer.org.</b></div><div class=\"sk-container\" hidden><div class=\"sk-item\"><div class=\"sk-estimator fitted sk-toggleable\"><input class=\"sk-toggleable__control sk-hidden--visually\" id=\"sk-estimator-id-1\" type=\"checkbox\" checked><label for=\"sk-estimator-id-1\" class=\"sk-toggleable__label fitted sk-toggleable__label-arrow\"><div><div>CountVectorizer</div></div><div><a class=\"sk-estimator-doc-link fitted\" rel=\"noreferrer\" target=\"_blank\" href=\"https://scikit-learn.org/1.6/modules/generated/sklearn.feature_extraction.text.CountVectorizer.html\">?<span>Documentation for CountVectorizer</span></a><span class=\"sk-estimator-doc-link fitted\">i<span>Fitted</span></span></div></label><div class=\"sk-toggleable__content fitted\"><pre>CountVectorizer()</pre></div> </div></div></div></div>"
      ],
      "text/plain": [
       "CountVectorizer()"
      ]
     },
     "execution_count": 38,
     "metadata": {},
     "output_type": "execute_result"
    }
   ],
   "source": [
    "# Creación de matrices de documentos usando CountVectorizer a partir de X\n",
    "vect = CountVectorizer()\n",
    "vect.fit(X)"
   ]
  },
  {
   "cell_type": "code",
   "execution_count": 40,
   "metadata": {
    "id": "8HB-dkPr7dSV"
   },
   "outputs": [
    {
     "data": {
      "text/plain": [
       "['apple',\n",
       " 'long',\n",
       " 'and',\n",
       " 'controversial',\n",
       " 'ebook',\n",
       " 'case',\n",
       " 'has',\n",
       " 'reached',\n",
       " 'its',\n",
       " 'final',\n",
       " 'chapter',\n",
       " 'it',\n",
       " 'not',\n",
       " 'the',\n",
       " 'happy',\n",
       " 'ending',\n",
       " 'company',\n",
       " 'wanted',\n",
       " 'supreme',\n",
       " 'court',\n",
       " 'on',\n",
       " 'monday',\n",
       " 'rejected',\n",
       " 'an',\n",
       " 'appeal',\n",
       " 'filed',\n",
       " 'by',\n",
       " 'to',\n",
       " 'overturn',\n",
       " 'stinging',\n",
       " 'ruling',\n",
       " 'that',\n",
       " 'led',\n",
       " 'broad',\n",
       " 'conspiracy',\n",
       " 'with',\n",
       " 'several',\n",
       " 'major',\n",
       " 'publishers',\n",
       " 'fix',\n",
       " 'price',\n",
       " 'of',\n",
       " 'books',\n",
       " 'sold',\n",
       " 'through',\n",
       " 'online',\n",
       " 'bookstore',\n",
       " 'decision',\n",
       " 'means',\n",
       " 'now',\n",
       " 'no',\n",
       " 'choice',\n",
       " 'but',\n",
       " 'pay',\n",
       " 'out',\n",
       " '400',\n",
       " 'million',\n",
       " 'consumers',\n",
       " 'additional',\n",
       " '50',\n",
       " 'in',\n",
       " 'legal',\n",
       " 'fees',\n",
       " 'according',\n",
       " 'original',\n",
       " 'settlement',\n",
       " '2014',\n",
       " 'see',\n",
       " 'also',\n",
       " 'here',\n",
       " 'how',\n",
       " 'marshalled',\n",
       " 'entire',\n",
       " 'tech',\n",
       " 'industry',\n",
       " 'fight',\n",
       " 'fbi',\n",
       " 'for',\n",
       " 'verdict',\n",
       " 'is',\n",
       " 'more',\n",
       " 'damaging',\n",
       " 'reputation',\n",
       " 'as',\n",
       " 'consumer',\n",
       " 'friendly',\n",
       " 'brand',\n",
       " 'mention',\n",
       " 'legacy',\n",
       " 'beloved',\n",
       " 'founder',\n",
       " 'steve',\n",
       " 'jobs',\n",
       " 'than',\n",
       " 'actual',\n",
       " 'bottom',\n",
       " 'line',\n",
       " 'put',\n",
       " 'fine',\n",
       " 'context']"
      ]
     },
     "execution_count": 40,
     "metadata": {},
     "output_type": "execute_result"
    }
   ],
   "source": [
    "# Definiicón de lista con vocabulario de la matriz de documentos\n",
    "words = list(vect.vocabulary_.keys())[:100]\n",
    "words"
   ]
  },
  {
   "cell_type": "code",
   "execution_count": 41,
   "metadata": {
    "colab": {
     "base_uri": "https://localhost:8080/"
    },
    "id": "PnD5w4aQ7dSV",
    "outputId": "fc70f6d0-9269-4e22-80c2-b66bf566ce2d"
   },
   "outputs": [
    {
     "name": "stdout",
     "output_type": "stream",
     "text": [
      "['appl', 'long', 'and', 'controversi', 'ebook', 'case', 'has', 'reach', 'it', 'final', 'chapter', 'it', 'not', 'the', 'happi', 'end', 'compani', 'want', 'suprem', 'court', 'on', 'monday', 'reject', 'an', 'appeal', 'file', 'by', 'to', 'overturn', 'sting', 'rule', 'that', 'led', 'broad', 'conspiraci', 'with', 'sever', 'major', 'publish', 'fix', 'price', 'of', 'book', 'sold', 'through', 'onlin', 'bookstor', 'decis', 'mean', 'now', 'no', 'choic', 'but', 'pay', 'out', '400', 'million', 'consum', 'addit', '50', 'in', 'legal', 'fee', 'accord', 'origin', 'settlement', '2014', 'see', 'also', 'here', 'how', 'marshal', 'entir', 'tech', 'industri', 'fight', 'fbi', 'for', 'verdict', 'is', 'more', 'damag', 'reput', 'as', 'consum', 'friend', 'brand', 'mention', 'legaci', 'belov', 'founder', 'steve', 'job', 'than', 'actual', 'bottom', 'line', 'put', 'fine', 'context']\n"
     ]
    }
   ],
   "source": [
    "# Obtención e impresión de los stem de cada palabra de la lista\n",
    "print([stemmer.stem(word) for word in words])"
   ]
  },
  {
   "cell_type": "markdown",
   "metadata": {
    "id": "9_waFmlF7dSV"
   },
   "source": [
    "### Lematización\n",
    "\n",
    "La lemmatización es un proceso en el que se busca el lema de cada palabra de un texto, siendo un lema la forma base o de diccionario de una palabra."
   ]
  },
  {
   "cell_type": "code",
   "execution_count": 42,
   "metadata": {
    "colab": {
     "base_uri": "https://localhost:8080/"
    },
    "id": "vGgIrKx47dSV",
    "outputId": "76a175e4-a1e9-4073-daa4-68394fdcf231"
   },
   "outputs": [
    {
     "name": "stderr",
     "output_type": "stream",
     "text": [
      "[nltk_data] Downloading package wordnet to\n",
      "[nltk_data]     C:\\Users\\madelgado\\AppData\\Roaming\\nltk_data...\n"
     ]
    },
    {
     "data": {
      "text/plain": [
       "True"
      ]
     },
     "execution_count": 42,
     "metadata": {},
     "output_type": "execute_result"
    }
   ],
   "source": [
    "# Importación de librerias\n",
    "from nltk.stem import WordNetLemmatizer\n",
    "wordnet_lemmatizer = WordNetLemmatizer()\n",
    "import nltk\n",
    "nltk.download('wordnet')"
   ]
  },
  {
   "cell_type": "code",
   "execution_count": 43,
   "metadata": {
    "colab": {
     "base_uri": "https://localhost:8080/"
    },
    "id": "Lb6oBWa_7dSW",
    "outputId": "8bd5e14b-84eb-42a3-cfb5-7a9fb9b1ea77"
   },
   "outputs": [
    {
     "name": "stdout",
     "output_type": "stream",
     "text": [
      "['apple', 'long', 'and', 'controversial', 'ebook', 'case', 'ha', 'reached', 'it', 'final', 'chapter', 'it', 'not', 'the', 'happy', 'ending', 'company', 'wanted', 'supreme', 'court', 'on', 'monday', 'rejected', 'an', 'appeal', 'filed', 'by', 'to', 'overturn', 'stinging', 'ruling', 'that', 'led', 'broad', 'conspiracy', 'with', 'several', 'major', 'publisher', 'fix', 'price', 'of', 'book', 'sold', 'through', 'online', 'bookstore', 'decision', 'mean', 'now', 'no', 'choice', 'but', 'pay', 'out', '400', 'million', 'consumer', 'additional', '50', 'in', 'legal', 'fee', 'according', 'original', 'settlement', '2014', 'see', 'also', 'here', 'how', 'marshalled', 'entire', 'tech', 'industry', 'fight', 'fbi', 'for', 'verdict', 'is', 'more', 'damaging', 'reputation', 'a', 'consumer', 'friendly', 'brand', 'mention', 'legacy', 'beloved', 'founder', 'steve', 'job', 'than', 'actual', 'bottom', 'line', 'put', 'fine', 'context']\n"
     ]
    }
   ],
   "source": [
    "# Obtención e impresión de los lemas de cada palabra de la lista asumiendo que cada palabra es un sustantivo\n",
    "print([wordnet_lemmatizer.lemmatize(word) for word in words])"
   ]
  },
  {
   "cell_type": "code",
   "execution_count": 44,
   "metadata": {
    "colab": {
     "base_uri": "https://localhost:8080/"
    },
    "id": "FmHE6R4F7dSW",
    "outputId": "2844437b-5d3d-451d-e69e-eafd6cc7899b"
   },
   "outputs": [
    {
     "name": "stdout",
     "output_type": "stream",
     "text": [
      "['apple', 'long', 'and', 'controversial', 'ebook', 'case', 'have', 'reach', 'its', 'final', 'chapter', 'it', 'not', 'the', 'happy', 'end', 'company', 'want', 'supreme', 'court', 'on', 'monday', 'reject', 'an', 'appeal', 'file', 'by', 'to', 'overturn', 'sting', 'rule', 'that', 'lead', 'broad', 'conspiracy', 'with', 'several', 'major', 'publishers', 'fix', 'price', 'of', 'book', 'sell', 'through', 'online', 'bookstore', 'decision', 'mean', 'now', 'no', 'choice', 'but', 'pay', 'out', '400', 'million', 'consumers', 'additional', '50', 'in', 'legal', 'fee', 'accord', 'original', 'settlement', '2014', 'see', 'also', 'here', 'how', 'marshal', 'entire', 'tech', 'industry', 'fight', 'fbi', 'for', 'verdict', 'be', 'more', 'damage', 'reputation', 'as', 'consumer', 'friendly', 'brand', 'mention', 'legacy', 'beloved', 'founder', 'steve', 'job', 'than', 'actual', 'bottom', 'line', 'put', 'fine', 'context']\n"
     ]
    }
   ],
   "source": [
    "# Obtención e impresión de los lemas de cada palabra de la lista asumiendo que cada palabra es un verbo\n",
    "print([wordnet_lemmatizer.lemmatize(word,pos='v') for word in words])"
   ]
  },
  {
   "cell_type": "code",
   "execution_count": 45,
   "metadata": {
    "id": "8rkzpQpL7dSW"
   },
   "outputs": [],
   "source": [
    "# Definición de la función que tenga como parámetro texto y devuelva una lista de lemas\n",
    "def split_into_lemmas(text):\n",
    "    text = text.lower()\n",
    "    words = text.split()\n",
    "    return [wordnet_lemmatizer.lemmatize(word) for word in words]"
   ]
  },
  {
   "cell_type": "code",
   "execution_count": 46,
   "metadata": {
    "id": "fZ6RIaJ27dSX"
   },
   "outputs": [],
   "source": [
    "# Creación de matrices de documentos usando CountVectorizer, usando el parámetro 'split_into_lemmas'\n",
    "vect_lemas = CountVectorizer(analyzer=split_into_lemmas)"
   ]
  },
  {
   "cell_type": "code",
   "execution_count": 47,
   "metadata": {
    "colab": {
     "base_uri": "https://localhost:8080/"
    },
    "id": "xJeQKxNJ7dSX",
    "outputId": "b9649db9-2f03-477c-df9a-49321577e04b",
    "tags": []
   },
   "outputs": [
    {
     "name": "stdout",
     "output_type": "stream",
     "text": [
      "Features:  10208\n",
      "count    10.000000\n",
      "mean      0.379167\n",
      "std       0.108584\n",
      "min       0.222222\n",
      "25%       0.281250\n",
      "50%       0.375000\n",
      "75%       0.486111\n",
      "max       0.500000\n",
      "dtype: float64\n"
     ]
    }
   ],
   "source": [
    "# Desempeño del modelo al lematizar el texto\n",
    "tokenize_test(vect_lemas)"
   ]
  }
 ],
 "metadata": {
  "colab": {
   "provenance": []
  },
  "kaggle": {
   "accelerator": "none",
   "dataSources": [
    {
     "datasetId": 6935020,
     "sourceId": 11121148,
     "sourceType": "datasetVersion"
    }
   ],
   "dockerImageVersionId": 30918,
   "isGpuEnabled": false,
   "isInternetEnabled": true,
   "language": "python",
   "sourceType": "notebook"
  },
  "kernelspec": {
   "display_name": "base",
   "language": "python",
   "name": "python3"
  },
  "language_info": {
   "codemirror_mode": {
    "name": "ipython",
    "version": 3
   },
   "file_extension": ".py",
   "mimetype": "text/x-python",
   "name": "python",
   "nbconvert_exporter": "python",
   "pygments_lexer": "ipython3",
   "version": "3.11.7"
  },
  "name": "_merged"
 },
 "nbformat": 4,
 "nbformat_minor": 4
}
